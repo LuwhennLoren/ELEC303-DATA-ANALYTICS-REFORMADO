{
 "cells": [
  {
   "cell_type": "markdown",
   "id": "6537f459-a586-49e0-a847-aaaad777a474",
   "metadata": {},
   "source": [
    "<h1>---Importing Necessary Files---</h1>"
   ]
  },
  {
   "cell_type": "code",
   "execution_count": 1,
   "id": "69d9cf7a-8bee-4e37-8a19-9bca8a48db4a",
   "metadata": {},
   "outputs": [],
   "source": [
    "import numpy as np\n",
    "import pandas as pd\n",
    "import warnings\n",
    "warnings.filterwarnings('ignore')\n",
    "from scipy.stats import f_oneway"
   ]
  },
  {
   "cell_type": "markdown",
   "id": "2b327509-27fa-483f-a689-392616da707f",
   "metadata": {},
   "source": [
    "<hr>\n",
    "<h1>---Making a DataFrame for the Dataset---</h1>"
   ]
  },
  {
   "cell_type": "code",
   "execution_count": 2,
   "id": "c19b1d9f-efd5-48d6-a784-d7078cc0153e",
   "metadata": {},
   "outputs": [],
   "source": [
    "ukroadaccident = pd.read_csv('datasets\\\\uk_road_accident.csv')"
   ]
  },
  {
   "cell_type": "markdown",
   "id": "5d7d7a1d-ef82-4b43-9168-11ae7f9be71b",
   "metadata": {},
   "source": [
    "<hr>\n",
    "<h1>---Checking if the DataFrame is Working---</h1>"
   ]
  },
  {
   "cell_type": "code",
   "execution_count": 3,
   "id": "03042180-7fce-42e6-b6bd-5909dd4db8fd",
   "metadata": {},
   "outputs": [
    {
     "data": {
      "text/html": [
       "<div>\n",
       "<style scoped>\n",
       "    .dataframe tbody tr th:only-of-type {\n",
       "        vertical-align: middle;\n",
       "    }\n",
       "\n",
       "    .dataframe tbody tr th {\n",
       "        vertical-align: top;\n",
       "    }\n",
       "\n",
       "    .dataframe thead th {\n",
       "        text-align: right;\n",
       "    }\n",
       "</style>\n",
       "<table border=\"1\" class=\"dataframe\">\n",
       "  <thead>\n",
       "    <tr style=\"text-align: right;\">\n",
       "      <th></th>\n",
       "      <th>Index</th>\n",
       "      <th>Accident_Severity</th>\n",
       "      <th>Accident Date</th>\n",
       "      <th>Latitude</th>\n",
       "      <th>Light_Conditions</th>\n",
       "      <th>District Area</th>\n",
       "      <th>Longitude</th>\n",
       "      <th>Number_of_Casualties</th>\n",
       "      <th>Number_of_Vehicles</th>\n",
       "      <th>Road_Surface_Conditions</th>\n",
       "      <th>Road_Type</th>\n",
       "      <th>Urban_or_Rural_Area</th>\n",
       "      <th>Weather_Conditions</th>\n",
       "      <th>Vehicle_Type</th>\n",
       "    </tr>\n",
       "  </thead>\n",
       "  <tbody>\n",
       "    <tr>\n",
       "      <th>0</th>\n",
       "      <td>200701BS64157</td>\n",
       "      <td>Serious</td>\n",
       "      <td>5/6/2019</td>\n",
       "      <td>51.506187</td>\n",
       "      <td>Darkness - lights lit</td>\n",
       "      <td>Kensington and Chelsea</td>\n",
       "      <td>-0.209082</td>\n",
       "      <td>1</td>\n",
       "      <td>2</td>\n",
       "      <td>Dry</td>\n",
       "      <td>Single carriageway</td>\n",
       "      <td>Urban</td>\n",
       "      <td>Fine no high winds</td>\n",
       "      <td>Car</td>\n",
       "    </tr>\n",
       "    <tr>\n",
       "      <th>1</th>\n",
       "      <td>200701BS65737</td>\n",
       "      <td>Serious</td>\n",
       "      <td>2/7/2019</td>\n",
       "      <td>51.495029</td>\n",
       "      <td>Daylight</td>\n",
       "      <td>Kensington and Chelsea</td>\n",
       "      <td>-0.173647</td>\n",
       "      <td>1</td>\n",
       "      <td>2</td>\n",
       "      <td>Wet or damp</td>\n",
       "      <td>Single carriageway</td>\n",
       "      <td>Urban</td>\n",
       "      <td>Raining no high winds</td>\n",
       "      <td>Car</td>\n",
       "    </tr>\n",
       "    <tr>\n",
       "      <th>2</th>\n",
       "      <td>200701BS66127</td>\n",
       "      <td>Serious</td>\n",
       "      <td>26-08-2019</td>\n",
       "      <td>51.517715</td>\n",
       "      <td>Darkness - lighting unknown</td>\n",
       "      <td>Kensington and Chelsea</td>\n",
       "      <td>-0.210215</td>\n",
       "      <td>1</td>\n",
       "      <td>3</td>\n",
       "      <td>Dry</td>\n",
       "      <td>NaN</td>\n",
       "      <td>Urban</td>\n",
       "      <td>NaN</td>\n",
       "      <td>Taxi/Private hire car</td>\n",
       "    </tr>\n",
       "    <tr>\n",
       "      <th>3</th>\n",
       "      <td>200701BS66128</td>\n",
       "      <td>Serious</td>\n",
       "      <td>16-08-2019</td>\n",
       "      <td>51.495478</td>\n",
       "      <td>Daylight</td>\n",
       "      <td>Kensington and Chelsea</td>\n",
       "      <td>-0.202731</td>\n",
       "      <td>1</td>\n",
       "      <td>4</td>\n",
       "      <td>Dry</td>\n",
       "      <td>Single carriageway</td>\n",
       "      <td>Urban</td>\n",
       "      <td>Fine no high winds</td>\n",
       "      <td>Bus or coach (17 or more pass seats)</td>\n",
       "    </tr>\n",
       "    <tr>\n",
       "      <th>4</th>\n",
       "      <td>200701BS66837</td>\n",
       "      <td>Slight</td>\n",
       "      <td>3/9/2019</td>\n",
       "      <td>51.488576</td>\n",
       "      <td>Darkness - lights lit</td>\n",
       "      <td>Kensington and Chelsea</td>\n",
       "      <td>-0.192487</td>\n",
       "      <td>1</td>\n",
       "      <td>2</td>\n",
       "      <td>Dry</td>\n",
       "      <td>NaN</td>\n",
       "      <td>Urban</td>\n",
       "      <td>NaN</td>\n",
       "      <td>Other vehicle</td>\n",
       "    </tr>\n",
       "    <tr>\n",
       "      <th>...</th>\n",
       "      <td>...</td>\n",
       "      <td>...</td>\n",
       "      <td>...</td>\n",
       "      <td>...</td>\n",
       "      <td>...</td>\n",
       "      <td>...</td>\n",
       "      <td>...</td>\n",
       "      <td>...</td>\n",
       "      <td>...</td>\n",
       "      <td>...</td>\n",
       "      <td>...</td>\n",
       "      <td>...</td>\n",
       "      <td>...</td>\n",
       "      <td>...</td>\n",
       "    </tr>\n",
       "    <tr>\n",
       "      <th>660674</th>\n",
       "      <td>201091NM01760</td>\n",
       "      <td>Slight</td>\n",
       "      <td>18-02-2022</td>\n",
       "      <td>57.374005</td>\n",
       "      <td>Daylight</td>\n",
       "      <td>Highland</td>\n",
       "      <td>-3.467828</td>\n",
       "      <td>2</td>\n",
       "      <td>1</td>\n",
       "      <td>Dry</td>\n",
       "      <td>Single carriageway</td>\n",
       "      <td>Rural</td>\n",
       "      <td>Fine no high winds</td>\n",
       "      <td>Car</td>\n",
       "    </tr>\n",
       "    <tr>\n",
       "      <th>660675</th>\n",
       "      <td>201091NM01881</td>\n",
       "      <td>Slight</td>\n",
       "      <td>21-02-2022</td>\n",
       "      <td>57.232273</td>\n",
       "      <td>Darkness - no lighting</td>\n",
       "      <td>Highland</td>\n",
       "      <td>-3.809281</td>\n",
       "      <td>1</td>\n",
       "      <td>1</td>\n",
       "      <td>Frost or ice</td>\n",
       "      <td>Single carriageway</td>\n",
       "      <td>Rural</td>\n",
       "      <td>Fine no high winds</td>\n",
       "      <td>Car</td>\n",
       "    </tr>\n",
       "    <tr>\n",
       "      <th>660676</th>\n",
       "      <td>201091NM01935</td>\n",
       "      <td>Slight</td>\n",
       "      <td>23-02-2022</td>\n",
       "      <td>57.585044</td>\n",
       "      <td>Daylight</td>\n",
       "      <td>Highland</td>\n",
       "      <td>-3.862727</td>\n",
       "      <td>1</td>\n",
       "      <td>3</td>\n",
       "      <td>Frost or ice</td>\n",
       "      <td>Single carriageway</td>\n",
       "      <td>Rural</td>\n",
       "      <td>Fine no high winds</td>\n",
       "      <td>Car</td>\n",
       "    </tr>\n",
       "    <tr>\n",
       "      <th>660677</th>\n",
       "      <td>201091NM01964</td>\n",
       "      <td>Serious</td>\n",
       "      <td>23-02-2022</td>\n",
       "      <td>57.214898</td>\n",
       "      <td>Darkness - no lighting</td>\n",
       "      <td>Highland</td>\n",
       "      <td>-3.823997</td>\n",
       "      <td>1</td>\n",
       "      <td>2</td>\n",
       "      <td>Wet or damp</td>\n",
       "      <td>Single carriageway</td>\n",
       "      <td>Rural</td>\n",
       "      <td>Fine no high winds</td>\n",
       "      <td>Motorcycle over 500cc</td>\n",
       "    </tr>\n",
       "    <tr>\n",
       "      <th>660678</th>\n",
       "      <td>201091NM02142</td>\n",
       "      <td>Serious</td>\n",
       "      <td>28-02-2022</td>\n",
       "      <td>57.575210</td>\n",
       "      <td>Daylight</td>\n",
       "      <td>Highland</td>\n",
       "      <td>-3.895673</td>\n",
       "      <td>1</td>\n",
       "      <td>1</td>\n",
       "      <td>Wet or damp</td>\n",
       "      <td>Dual carriageway</td>\n",
       "      <td>Rural</td>\n",
       "      <td>Snowing no high winds</td>\n",
       "      <td>Car</td>\n",
       "    </tr>\n",
       "  </tbody>\n",
       "</table>\n",
       "<p>660679 rows × 14 columns</p>\n",
       "</div>"
      ],
      "text/plain": [
       "                Index Accident_Severity Accident Date   Latitude  \\\n",
       "0       200701BS64157           Serious      5/6/2019  51.506187   \n",
       "1       200701BS65737           Serious      2/7/2019  51.495029   \n",
       "2       200701BS66127           Serious    26-08-2019  51.517715   \n",
       "3       200701BS66128           Serious    16-08-2019  51.495478   \n",
       "4       200701BS66837            Slight      3/9/2019  51.488576   \n",
       "...               ...               ...           ...        ...   \n",
       "660674  201091NM01760            Slight    18-02-2022  57.374005   \n",
       "660675  201091NM01881            Slight    21-02-2022  57.232273   \n",
       "660676  201091NM01935            Slight    23-02-2022  57.585044   \n",
       "660677  201091NM01964           Serious    23-02-2022  57.214898   \n",
       "660678  201091NM02142           Serious    28-02-2022  57.575210   \n",
       "\n",
       "                   Light_Conditions           District Area  Longitude  \\\n",
       "0             Darkness - lights lit  Kensington and Chelsea  -0.209082   \n",
       "1                          Daylight  Kensington and Chelsea  -0.173647   \n",
       "2       Darkness - lighting unknown  Kensington and Chelsea  -0.210215   \n",
       "3                          Daylight  Kensington and Chelsea  -0.202731   \n",
       "4             Darkness - lights lit  Kensington and Chelsea  -0.192487   \n",
       "...                             ...                     ...        ...   \n",
       "660674                     Daylight                Highland  -3.467828   \n",
       "660675       Darkness - no lighting                Highland  -3.809281   \n",
       "660676                     Daylight                Highland  -3.862727   \n",
       "660677       Darkness - no lighting                Highland  -3.823997   \n",
       "660678                     Daylight                Highland  -3.895673   \n",
       "\n",
       "        Number_of_Casualties  Number_of_Vehicles Road_Surface_Conditions  \\\n",
       "0                          1                   2                     Dry   \n",
       "1                          1                   2             Wet or damp   \n",
       "2                          1                   3                     Dry   \n",
       "3                          1                   4                     Dry   \n",
       "4                          1                   2                     Dry   \n",
       "...                      ...                 ...                     ...   \n",
       "660674                     2                   1                     Dry   \n",
       "660675                     1                   1            Frost or ice   \n",
       "660676                     1                   3            Frost or ice   \n",
       "660677                     1                   2             Wet or damp   \n",
       "660678                     1                   1             Wet or damp   \n",
       "\n",
       "                 Road_Type Urban_or_Rural_Area     Weather_Conditions  \\\n",
       "0       Single carriageway               Urban     Fine no high winds   \n",
       "1       Single carriageway               Urban  Raining no high winds   \n",
       "2                      NaN               Urban                    NaN   \n",
       "3       Single carriageway               Urban     Fine no high winds   \n",
       "4                      NaN               Urban                    NaN   \n",
       "...                    ...                 ...                    ...   \n",
       "660674  Single carriageway               Rural     Fine no high winds   \n",
       "660675  Single carriageway               Rural     Fine no high winds   \n",
       "660676  Single carriageway               Rural     Fine no high winds   \n",
       "660677  Single carriageway               Rural     Fine no high winds   \n",
       "660678    Dual carriageway               Rural  Snowing no high winds   \n",
       "\n",
       "                                Vehicle_Type  \n",
       "0                                        Car  \n",
       "1                                        Car  \n",
       "2                      Taxi/Private hire car  \n",
       "3       Bus or coach (17 or more pass seats)  \n",
       "4                              Other vehicle  \n",
       "...                                      ...  \n",
       "660674                                   Car  \n",
       "660675                                   Car  \n",
       "660676                                   Car  \n",
       "660677                 Motorcycle over 500cc  \n",
       "660678                                   Car  \n",
       "\n",
       "[660679 rows x 14 columns]"
      ]
     },
     "execution_count": 3,
     "metadata": {},
     "output_type": "execute_result"
    }
   ],
   "source": [
    "ukroadaccident"
   ]
  },
  {
   "cell_type": "markdown",
   "id": "b8598230-d36d-4c3e-9a5c-80a2bcbab3dc",
   "metadata": {},
   "source": [
    "<hr>\n",
    "<h1>---Checking for Null Values---</h1>"
   ]
  },
  {
   "cell_type": "code",
   "execution_count": 4,
   "id": "6e179ed3-1942-49ed-8f76-d7d0a39364a6",
   "metadata": {},
   "outputs": [
    {
     "data": {
      "text/plain": [
       "Index                          0\n",
       "Accident_Severity              0\n",
       "Accident Date                  0\n",
       "Latitude                      25\n",
       "Light_Conditions               0\n",
       "District Area                  0\n",
       "Longitude                     26\n",
       "Number_of_Casualties           0\n",
       "Number_of_Vehicles             0\n",
       "Road_Surface_Conditions      726\n",
       "Road_Type                   4520\n",
       "Urban_or_Rural_Area           15\n",
       "Weather_Conditions         14128\n",
       "Vehicle_Type                   0\n",
       "dtype: int64"
      ]
     },
     "execution_count": 4,
     "metadata": {},
     "output_type": "execute_result"
    }
   ],
   "source": [
    "ukroadaccident.isnull().sum()"
   ]
  },
  {
   "cell_type": "markdown",
   "id": "e10b202d-5874-4ba2-86b4-5f1f0c8fb9cb",
   "metadata": {},
   "source": [
    "<h1>---Fixing the Null Values---</h1>"
   ]
  },
  {
   "cell_type": "markdown",
   "id": "ae6ed67f-0b28-43dd-b569-8ce9248c5020",
   "metadata": {},
   "source": [
    "<h3>-Numerical Null Values-</h3>"
   ]
  },
  {
   "cell_type": "code",
   "execution_count": 5,
   "id": "5c2bc6c9-a954-4aea-b57d-9bf0be3cbc1d",
   "metadata": {},
   "outputs": [
    {
     "data": {
      "text/plain": [
       "np.float64(52.553865761110956)"
      ]
     },
     "execution_count": 5,
     "metadata": {},
     "output_type": "execute_result"
    }
   ],
   "source": [
    "ukroadaccident['Latitude'].mean()"
   ]
  },
  {
   "cell_type": "code",
   "execution_count": 6,
   "id": "4ecc38fb-9aae-4208-aaff-f658c089d215",
   "metadata": {},
   "outputs": [],
   "source": [
    "ukroadaccident['Latitude'] = ukroadaccident['Latitude'].fillna(ukroadaccident['Latitude'].mean())"
   ]
  },
  {
   "cell_type": "markdown",
   "id": "525d342b-bdf3-4b92-9b56-bab10e315f1b",
   "metadata": {},
   "source": [
    "<p>---------------------------------------------</p>"
   ]
  },
  {
   "cell_type": "code",
   "execution_count": 7,
   "id": "8bfe2109-41fe-4402-bde7-24048c772080",
   "metadata": {},
   "outputs": [
    {
     "data": {
      "text/plain": [
       "np.float64(-1.431210368502073)"
      ]
     },
     "execution_count": 7,
     "metadata": {},
     "output_type": "execute_result"
    }
   ],
   "source": [
    "ukroadaccident['Longitude'].mean()"
   ]
  },
  {
   "cell_type": "code",
   "execution_count": 8,
   "id": "50896a52-15d9-4a14-8c5a-79f49c17f039",
   "metadata": {},
   "outputs": [],
   "source": [
    "ukroadaccident['Longitude'] = ukroadaccident['Longitude'].fillna(ukroadaccident['Longitude'].mean())"
   ]
  },
  {
   "cell_type": "markdown",
   "id": "aa786a6a-e24d-4cd8-ba41-cd9ebeb2933b",
   "metadata": {},
   "source": [
    "<h3>-Categorical Null Values-</h3>"
   ]
  },
  {
   "cell_type": "code",
   "execution_count": 9,
   "id": "e8a081c8-9ad6-4ff4-ae63-781351b1cecf",
   "metadata": {},
   "outputs": [
    {
     "data": {
      "text/plain": [
       "0    Dry\n",
       "Name: Road_Surface_Conditions, dtype: object"
      ]
     },
     "execution_count": 9,
     "metadata": {},
     "output_type": "execute_result"
    }
   ],
   "source": [
    "ukroadaccident['Road_Surface_Conditions'].mode()"
   ]
  },
  {
   "cell_type": "code",
   "execution_count": 10,
   "id": "d4d155a9-e87f-40ac-a787-130c0cf1c685",
   "metadata": {},
   "outputs": [],
   "source": [
    "ukroadaccident['Road_Surface_Conditions'] = ukroadaccident['Road_Surface_Conditions'].fillna(ukroadaccident['Road_Surface_Conditions'].mode()[0])"
   ]
  },
  {
   "cell_type": "markdown",
   "id": "d3e74c38-42a9-49c3-9365-32934b007f77",
   "metadata": {},
   "source": [
    "<p>---------------------------------------------</p>"
   ]
  },
  {
   "cell_type": "code",
   "execution_count": 11,
   "id": "b1e30ec3-9db8-45fd-bffa-69df4b54a870",
   "metadata": {},
   "outputs": [
    {
     "data": {
      "text/plain": [
       "0    Single carriageway\n",
       "Name: Road_Type, dtype: object"
      ]
     },
     "execution_count": 11,
     "metadata": {},
     "output_type": "execute_result"
    }
   ],
   "source": [
    "ukroadaccident['Road_Type'].mode()"
   ]
  },
  {
   "cell_type": "code",
   "execution_count": 12,
   "id": "4bb00251-f8de-4d63-979c-dfd0fac66b58",
   "metadata": {},
   "outputs": [],
   "source": [
    "ukroadaccident['Road_Type'] = ukroadaccident['Road_Type'].fillna(ukroadaccident['Road_Type'].mode()[0])"
   ]
  },
  {
   "cell_type": "markdown",
   "id": "142a4a51-a513-407e-835d-2b31c4ae3d6c",
   "metadata": {},
   "source": [
    "<p>---------------------------------------------</p>"
   ]
  },
  {
   "cell_type": "code",
   "execution_count": 13,
   "id": "51159b98-83da-4d4c-9993-36eb54b8f15f",
   "metadata": {},
   "outputs": [
    {
     "data": {
      "text/plain": [
       "0    Urban\n",
       "Name: Urban_or_Rural_Area, dtype: object"
      ]
     },
     "execution_count": 13,
     "metadata": {},
     "output_type": "execute_result"
    }
   ],
   "source": [
    "ukroadaccident['Urban_or_Rural_Area'].mode()"
   ]
  },
  {
   "cell_type": "code",
   "execution_count": 14,
   "id": "e2a122f4-b386-4040-b874-9d331bbf013f",
   "metadata": {},
   "outputs": [],
   "source": [
    "ukroadaccident['Urban_or_Rural_Area'] = ukroadaccident['Urban_or_Rural_Area'].fillna(ukroadaccident['Urban_or_Rural_Area'].mode()[0])"
   ]
  },
  {
   "cell_type": "markdown",
   "id": "f6811a4d-d8ff-49a0-a649-54a731de6222",
   "metadata": {},
   "source": [
    "<p>---------------------------------------------</p>"
   ]
  },
  {
   "cell_type": "code",
   "execution_count": 15,
   "id": "00fb937a-5a68-4e34-9571-737fe8603b15",
   "metadata": {},
   "outputs": [
    {
     "data": {
      "text/plain": [
       "0    Fine no high winds\n",
       "Name: Weather_Conditions, dtype: object"
      ]
     },
     "execution_count": 15,
     "metadata": {},
     "output_type": "execute_result"
    }
   ],
   "source": [
    "ukroadaccident['Weather_Conditions'].mode()"
   ]
  },
  {
   "cell_type": "code",
   "execution_count": 16,
   "id": "9550e822-aaf5-4724-b90d-aced9b1679b2",
   "metadata": {},
   "outputs": [],
   "source": [
    "ukroadaccident['Weather_Conditions'] = ukroadaccident['Weather_Conditions'].fillna(ukroadaccident['Weather_Conditions'].mode()[0])"
   ]
  },
  {
   "cell_type": "markdown",
   "id": "f3fac675-95c7-46ea-bfa5-5ba5d08be489",
   "metadata": {},
   "source": [
    "<h1>---Checking if there are still Null Values---</h1>"
   ]
  },
  {
   "cell_type": "code",
   "execution_count": 17,
   "id": "98d6f815-f321-4fbc-83dc-2b0354a23c56",
   "metadata": {},
   "outputs": [
    {
     "data": {
      "text/plain": [
       "Index                      0\n",
       "Accident_Severity          0\n",
       "Accident Date              0\n",
       "Latitude                   0\n",
       "Light_Conditions           0\n",
       "District Area              0\n",
       "Longitude                  0\n",
       "Number_of_Casualties       0\n",
       "Number_of_Vehicles         0\n",
       "Road_Surface_Conditions    0\n",
       "Road_Type                  0\n",
       "Urban_or_Rural_Area        0\n",
       "Weather_Conditions         0\n",
       "Vehicle_Type               0\n",
       "dtype: int64"
      ]
     },
     "execution_count": 17,
     "metadata": {},
     "output_type": "execute_result"
    }
   ],
   "source": [
    "ukroadaccident.isnull().sum()"
   ]
  },
  {
   "cell_type": "markdown",
   "id": "66429a22-f7c7-4b47-b313-3a1dcdaee3e5",
   "metadata": {},
   "source": [
    "<hr>\n",
    "<h1>---Checking the Data Type---</h1>"
   ]
  },
  {
   "cell_type": "code",
   "execution_count": 18,
   "id": "9104dd56-fd3a-44fb-a2cb-6f2bf5e207ca",
   "metadata": {},
   "outputs": [
    {
     "name": "stdout",
     "output_type": "stream",
     "text": [
      "<class 'pandas.core.frame.DataFrame'>\n",
      "RangeIndex: 660679 entries, 0 to 660678\n",
      "Data columns (total 14 columns):\n",
      " #   Column                   Non-Null Count   Dtype  \n",
      "---  ------                   --------------   -----  \n",
      " 0   Index                    660679 non-null  object \n",
      " 1   Accident_Severity        660679 non-null  object \n",
      " 2   Accident Date            660679 non-null  object \n",
      " 3   Latitude                 660679 non-null  float64\n",
      " 4   Light_Conditions         660679 non-null  object \n",
      " 5   District Area            660679 non-null  object \n",
      " 6   Longitude                660679 non-null  float64\n",
      " 7   Number_of_Casualties     660679 non-null  int64  \n",
      " 8   Number_of_Vehicles       660679 non-null  int64  \n",
      " 9   Road_Surface_Conditions  660679 non-null  object \n",
      " 10  Road_Type                660679 non-null  object \n",
      " 11  Urban_or_Rural_Area      660679 non-null  object \n",
      " 12  Weather_Conditions       660679 non-null  object \n",
      " 13  Vehicle_Type             660679 non-null  object \n",
      "dtypes: float64(2), int64(2), object(10)\n",
      "memory usage: 70.6+ MB\n"
     ]
    }
   ],
   "source": [
    "ukroadaccident.info()"
   ]
  },
  {
   "cell_type": "markdown",
   "id": "da12d4fd-e581-45cd-804f-d1d17be789fb",
   "metadata": {},
   "source": [
    "<h1>---Changing the Data Type---</h1>"
   ]
  },
  {
   "cell_type": "code",
   "execution_count": 19,
   "id": "e41496c2-57b4-4090-8c0a-d499d8786b97",
   "metadata": {},
   "outputs": [],
   "source": [
    "ukroadaccident['Index'] = ukroadaccident['Index'].astype('category')\n",
    "ukroadaccident['Accident_Severity'] = ukroadaccident['Accident_Severity'].astype('category')\n",
    "ukroadaccident['Accident Date'] = ukroadaccident['Accident Date'].astype('datetime64[ns]')\n",
    "ukroadaccident['Light_Conditions'] = ukroadaccident['Light_Conditions'].astype('category')\n",
    "ukroadaccident['District Area'] = ukroadaccident['District Area'].astype('category')\n",
    "ukroadaccident['Road_Surface_Conditions'] = ukroadaccident['Road_Surface_Conditions'].astype('category')\n",
    "ukroadaccident['Road_Type'] = ukroadaccident['Road_Type'].astype('category')\n",
    "ukroadaccident['Urban_or_Rural_Area'] = ukroadaccident['Urban_or_Rural_Area'].astype('category')\n",
    "ukroadaccident['Weather_Conditions'] = ukroadaccident['Weather_Conditions'].astype('category')\n",
    "ukroadaccident['Vehicle_Type'] = ukroadaccident['Vehicle_Type'].astype('category')"
   ]
  },
  {
   "cell_type": "markdown",
   "id": "2d2dad16-b9cc-4e00-9229-2bf3b5ce0e21",
   "metadata": {},
   "source": [
    "<h1>---Checking the Updated Data Type---</h1>"
   ]
  },
  {
   "cell_type": "code",
   "execution_count": 20,
   "id": "894c2df6-eb73-44ae-9e37-cd96b2957a00",
   "metadata": {},
   "outputs": [
    {
     "name": "stdout",
     "output_type": "stream",
     "text": [
      "<class 'pandas.core.frame.DataFrame'>\n",
      "RangeIndex: 660679 entries, 0 to 660678\n",
      "Data columns (total 14 columns):\n",
      " #   Column                   Non-Null Count   Dtype         \n",
      "---  ------                   --------------   -----         \n",
      " 0   Index                    660679 non-null  category      \n",
      " 1   Accident_Severity        660679 non-null  category      \n",
      " 2   Accident Date            660679 non-null  datetime64[ns]\n",
      " 3   Latitude                 660679 non-null  float64       \n",
      " 4   Light_Conditions         660679 non-null  category      \n",
      " 5   District Area            660679 non-null  category      \n",
      " 6   Longitude                660679 non-null  float64       \n",
      " 7   Number_of_Casualties     660679 non-null  int64         \n",
      " 8   Number_of_Vehicles       660679 non-null  int64         \n",
      " 9   Road_Surface_Conditions  660679 non-null  category      \n",
      " 10  Road_Type                660679 non-null  category      \n",
      " 11  Urban_or_Rural_Area      660679 non-null  category      \n",
      " 12  Weather_Conditions       660679 non-null  category      \n",
      " 13  Vehicle_Type             660679 non-null  category      \n",
      "dtypes: category(9), datetime64[ns](1), float64(2), int64(2)\n",
      "memory usage: 52.8 MB\n"
     ]
    }
   ],
   "source": [
    "ukroadaccident.info()"
   ]
  },
  {
   "cell_type": "markdown",
   "id": "2af5f61f-c109-4a0f-8ec0-6fa1bcd80462",
   "metadata": {},
   "source": [
    "<hr>\n",
    "<h1>---Creating a column---</h1>\n",
    "<h3>The accident date is all together so I want to break them by month and by year.</h3>"
   ]
  },
  {
   "cell_type": "code",
   "execution_count": 21,
   "id": "7b1f06f2-bcab-4268-b087-079a4f488401",
   "metadata": {},
   "outputs": [
    {
     "data": {
      "text/html": [
       "<div>\n",
       "<style scoped>\n",
       "    .dataframe tbody tr th:only-of-type {\n",
       "        vertical-align: middle;\n",
       "    }\n",
       "\n",
       "    .dataframe tbody tr th {\n",
       "        vertical-align: top;\n",
       "    }\n",
       "\n",
       "    .dataframe thead th {\n",
       "        text-align: right;\n",
       "    }\n",
       "</style>\n",
       "<table border=\"1\" class=\"dataframe\">\n",
       "  <thead>\n",
       "    <tr style=\"text-align: right;\">\n",
       "      <th></th>\n",
       "      <th>Index</th>\n",
       "      <th>Accident_Severity</th>\n",
       "      <th>Accident Date</th>\n",
       "      <th>Latitude</th>\n",
       "      <th>Light_Conditions</th>\n",
       "      <th>District Area</th>\n",
       "      <th>Longitude</th>\n",
       "      <th>Number_of_Casualties</th>\n",
       "      <th>Number_of_Vehicles</th>\n",
       "      <th>Road_Surface_Conditions</th>\n",
       "      <th>Road_Type</th>\n",
       "      <th>Urban_or_Rural_Area</th>\n",
       "      <th>Weather_Conditions</th>\n",
       "      <th>Vehicle_Type</th>\n",
       "      <th>Month</th>\n",
       "    </tr>\n",
       "  </thead>\n",
       "  <tbody>\n",
       "    <tr>\n",
       "      <th>0</th>\n",
       "      <td>200701BS64157</td>\n",
       "      <td>Serious</td>\n",
       "      <td>2019-05-06</td>\n",
       "      <td>51.506187</td>\n",
       "      <td>Darkness - lights lit</td>\n",
       "      <td>Kensington and Chelsea</td>\n",
       "      <td>-0.209082</td>\n",
       "      <td>1</td>\n",
       "      <td>2</td>\n",
       "      <td>Dry</td>\n",
       "      <td>Single carriageway</td>\n",
       "      <td>Urban</td>\n",
       "      <td>Fine no high winds</td>\n",
       "      <td>Car</td>\n",
       "      <td>May</td>\n",
       "    </tr>\n",
       "    <tr>\n",
       "      <th>1</th>\n",
       "      <td>200701BS65737</td>\n",
       "      <td>Serious</td>\n",
       "      <td>2019-02-07</td>\n",
       "      <td>51.495029</td>\n",
       "      <td>Daylight</td>\n",
       "      <td>Kensington and Chelsea</td>\n",
       "      <td>-0.173647</td>\n",
       "      <td>1</td>\n",
       "      <td>2</td>\n",
       "      <td>Wet or damp</td>\n",
       "      <td>Single carriageway</td>\n",
       "      <td>Urban</td>\n",
       "      <td>Raining no high winds</td>\n",
       "      <td>Car</td>\n",
       "      <td>February</td>\n",
       "    </tr>\n",
       "    <tr>\n",
       "      <th>2</th>\n",
       "      <td>200701BS66127</td>\n",
       "      <td>Serious</td>\n",
       "      <td>2019-08-26</td>\n",
       "      <td>51.517715</td>\n",
       "      <td>Darkness - lighting unknown</td>\n",
       "      <td>Kensington and Chelsea</td>\n",
       "      <td>-0.210215</td>\n",
       "      <td>1</td>\n",
       "      <td>3</td>\n",
       "      <td>Dry</td>\n",
       "      <td>Single carriageway</td>\n",
       "      <td>Urban</td>\n",
       "      <td>Fine no high winds</td>\n",
       "      <td>Taxi/Private hire car</td>\n",
       "      <td>August</td>\n",
       "    </tr>\n",
       "    <tr>\n",
       "      <th>3</th>\n",
       "      <td>200701BS66128</td>\n",
       "      <td>Serious</td>\n",
       "      <td>2019-08-16</td>\n",
       "      <td>51.495478</td>\n",
       "      <td>Daylight</td>\n",
       "      <td>Kensington and Chelsea</td>\n",
       "      <td>-0.202731</td>\n",
       "      <td>1</td>\n",
       "      <td>4</td>\n",
       "      <td>Dry</td>\n",
       "      <td>Single carriageway</td>\n",
       "      <td>Urban</td>\n",
       "      <td>Fine no high winds</td>\n",
       "      <td>Bus or coach (17 or more pass seats)</td>\n",
       "      <td>August</td>\n",
       "    </tr>\n",
       "    <tr>\n",
       "      <th>4</th>\n",
       "      <td>200701BS66837</td>\n",
       "      <td>Slight</td>\n",
       "      <td>2019-03-09</td>\n",
       "      <td>51.488576</td>\n",
       "      <td>Darkness - lights lit</td>\n",
       "      <td>Kensington and Chelsea</td>\n",
       "      <td>-0.192487</td>\n",
       "      <td>1</td>\n",
       "      <td>2</td>\n",
       "      <td>Dry</td>\n",
       "      <td>Single carriageway</td>\n",
       "      <td>Urban</td>\n",
       "      <td>Fine no high winds</td>\n",
       "      <td>Other vehicle</td>\n",
       "      <td>March</td>\n",
       "    </tr>\n",
       "    <tr>\n",
       "      <th>...</th>\n",
       "      <td>...</td>\n",
       "      <td>...</td>\n",
       "      <td>...</td>\n",
       "      <td>...</td>\n",
       "      <td>...</td>\n",
       "      <td>...</td>\n",
       "      <td>...</td>\n",
       "      <td>...</td>\n",
       "      <td>...</td>\n",
       "      <td>...</td>\n",
       "      <td>...</td>\n",
       "      <td>...</td>\n",
       "      <td>...</td>\n",
       "      <td>...</td>\n",
       "      <td>...</td>\n",
       "    </tr>\n",
       "    <tr>\n",
       "      <th>660674</th>\n",
       "      <td>201091NM01760</td>\n",
       "      <td>Slight</td>\n",
       "      <td>2022-02-18</td>\n",
       "      <td>57.374005</td>\n",
       "      <td>Daylight</td>\n",
       "      <td>Highland</td>\n",
       "      <td>-3.467828</td>\n",
       "      <td>2</td>\n",
       "      <td>1</td>\n",
       "      <td>Dry</td>\n",
       "      <td>Single carriageway</td>\n",
       "      <td>Rural</td>\n",
       "      <td>Fine no high winds</td>\n",
       "      <td>Car</td>\n",
       "      <td>February</td>\n",
       "    </tr>\n",
       "    <tr>\n",
       "      <th>660675</th>\n",
       "      <td>201091NM01881</td>\n",
       "      <td>Slight</td>\n",
       "      <td>2022-02-21</td>\n",
       "      <td>57.232273</td>\n",
       "      <td>Darkness - no lighting</td>\n",
       "      <td>Highland</td>\n",
       "      <td>-3.809281</td>\n",
       "      <td>1</td>\n",
       "      <td>1</td>\n",
       "      <td>Frost or ice</td>\n",
       "      <td>Single carriageway</td>\n",
       "      <td>Rural</td>\n",
       "      <td>Fine no high winds</td>\n",
       "      <td>Car</td>\n",
       "      <td>February</td>\n",
       "    </tr>\n",
       "    <tr>\n",
       "      <th>660676</th>\n",
       "      <td>201091NM01935</td>\n",
       "      <td>Slight</td>\n",
       "      <td>2022-02-23</td>\n",
       "      <td>57.585044</td>\n",
       "      <td>Daylight</td>\n",
       "      <td>Highland</td>\n",
       "      <td>-3.862727</td>\n",
       "      <td>1</td>\n",
       "      <td>3</td>\n",
       "      <td>Frost or ice</td>\n",
       "      <td>Single carriageway</td>\n",
       "      <td>Rural</td>\n",
       "      <td>Fine no high winds</td>\n",
       "      <td>Car</td>\n",
       "      <td>February</td>\n",
       "    </tr>\n",
       "    <tr>\n",
       "      <th>660677</th>\n",
       "      <td>201091NM01964</td>\n",
       "      <td>Serious</td>\n",
       "      <td>2022-02-23</td>\n",
       "      <td>57.214898</td>\n",
       "      <td>Darkness - no lighting</td>\n",
       "      <td>Highland</td>\n",
       "      <td>-3.823997</td>\n",
       "      <td>1</td>\n",
       "      <td>2</td>\n",
       "      <td>Wet or damp</td>\n",
       "      <td>Single carriageway</td>\n",
       "      <td>Rural</td>\n",
       "      <td>Fine no high winds</td>\n",
       "      <td>Motorcycle over 500cc</td>\n",
       "      <td>February</td>\n",
       "    </tr>\n",
       "    <tr>\n",
       "      <th>660678</th>\n",
       "      <td>201091NM02142</td>\n",
       "      <td>Serious</td>\n",
       "      <td>2022-02-28</td>\n",
       "      <td>57.575210</td>\n",
       "      <td>Daylight</td>\n",
       "      <td>Highland</td>\n",
       "      <td>-3.895673</td>\n",
       "      <td>1</td>\n",
       "      <td>1</td>\n",
       "      <td>Wet or damp</td>\n",
       "      <td>Dual carriageway</td>\n",
       "      <td>Rural</td>\n",
       "      <td>Snowing no high winds</td>\n",
       "      <td>Car</td>\n",
       "      <td>February</td>\n",
       "    </tr>\n",
       "  </tbody>\n",
       "</table>\n",
       "<p>660679 rows × 15 columns</p>\n",
       "</div>"
      ],
      "text/plain": [
       "                Index Accident_Severity Accident Date   Latitude  \\\n",
       "0       200701BS64157           Serious    2019-05-06  51.506187   \n",
       "1       200701BS65737           Serious    2019-02-07  51.495029   \n",
       "2       200701BS66127           Serious    2019-08-26  51.517715   \n",
       "3       200701BS66128           Serious    2019-08-16  51.495478   \n",
       "4       200701BS66837            Slight    2019-03-09  51.488576   \n",
       "...               ...               ...           ...        ...   \n",
       "660674  201091NM01760            Slight    2022-02-18  57.374005   \n",
       "660675  201091NM01881            Slight    2022-02-21  57.232273   \n",
       "660676  201091NM01935            Slight    2022-02-23  57.585044   \n",
       "660677  201091NM01964           Serious    2022-02-23  57.214898   \n",
       "660678  201091NM02142           Serious    2022-02-28  57.575210   \n",
       "\n",
       "                   Light_Conditions           District Area  Longitude  \\\n",
       "0             Darkness - lights lit  Kensington and Chelsea  -0.209082   \n",
       "1                          Daylight  Kensington and Chelsea  -0.173647   \n",
       "2       Darkness - lighting unknown  Kensington and Chelsea  -0.210215   \n",
       "3                          Daylight  Kensington and Chelsea  -0.202731   \n",
       "4             Darkness - lights lit  Kensington and Chelsea  -0.192487   \n",
       "...                             ...                     ...        ...   \n",
       "660674                     Daylight                Highland  -3.467828   \n",
       "660675       Darkness - no lighting                Highland  -3.809281   \n",
       "660676                     Daylight                Highland  -3.862727   \n",
       "660677       Darkness - no lighting                Highland  -3.823997   \n",
       "660678                     Daylight                Highland  -3.895673   \n",
       "\n",
       "        Number_of_Casualties  Number_of_Vehicles Road_Surface_Conditions  \\\n",
       "0                          1                   2                     Dry   \n",
       "1                          1                   2             Wet or damp   \n",
       "2                          1                   3                     Dry   \n",
       "3                          1                   4                     Dry   \n",
       "4                          1                   2                     Dry   \n",
       "...                      ...                 ...                     ...   \n",
       "660674                     2                   1                     Dry   \n",
       "660675                     1                   1            Frost or ice   \n",
       "660676                     1                   3            Frost or ice   \n",
       "660677                     1                   2             Wet or damp   \n",
       "660678                     1                   1             Wet or damp   \n",
       "\n",
       "                 Road_Type Urban_or_Rural_Area     Weather_Conditions  \\\n",
       "0       Single carriageway               Urban     Fine no high winds   \n",
       "1       Single carriageway               Urban  Raining no high winds   \n",
       "2       Single carriageway               Urban     Fine no high winds   \n",
       "3       Single carriageway               Urban     Fine no high winds   \n",
       "4       Single carriageway               Urban     Fine no high winds   \n",
       "...                    ...                 ...                    ...   \n",
       "660674  Single carriageway               Rural     Fine no high winds   \n",
       "660675  Single carriageway               Rural     Fine no high winds   \n",
       "660676  Single carriageway               Rural     Fine no high winds   \n",
       "660677  Single carriageway               Rural     Fine no high winds   \n",
       "660678    Dual carriageway               Rural  Snowing no high winds   \n",
       "\n",
       "                                Vehicle_Type     Month  \n",
       "0                                        Car       May  \n",
       "1                                        Car  February  \n",
       "2                      Taxi/Private hire car    August  \n",
       "3       Bus or coach (17 or more pass seats)    August  \n",
       "4                              Other vehicle     March  \n",
       "...                                      ...       ...  \n",
       "660674                                   Car  February  \n",
       "660675                                   Car  February  \n",
       "660676                                   Car  February  \n",
       "660677                 Motorcycle over 500cc  February  \n",
       "660678                                   Car  February  \n",
       "\n",
       "[660679 rows x 15 columns]"
      ]
     },
     "execution_count": 21,
     "metadata": {},
     "output_type": "execute_result"
    }
   ],
   "source": [
    "ukroadaccident['Accident Date'] = pd.to_datetime(ukroadaccident['Accident Date'])\n",
    "ukroadaccident['Month'] = ukroadaccident['Accident Date'].dt.month_name()\n",
    "ukroadaccident"
   ]
  },
  {
   "cell_type": "markdown",
   "id": "2142fc33-0801-4190-9b73-0db25b22ab64",
   "metadata": {},
   "source": [
    "<h3><strong>Note:</strong> I tried first to create the column 'Year' but then I realized that the column 'Month' should comes first so I replaced the word 'year' with 'month_name()' instead, but then when I run it, the year column was still there and I have researched that pandas doesn’t overwrite the old column. I was supposed to set it aside and move on that's why i created this note but on second thought, I am quite bothered by it so I am going to fix it hehehe now.</h3>"
   ]
  },
  {
   "cell_type": "code",
   "execution_count": 23,
   "id": "97b0e93f-ec95-4632-8090-4d0e42472768",
   "metadata": {},
   "outputs": [
    {
     "data": {
      "text/html": [
       "<div>\n",
       "<style scoped>\n",
       "    .dataframe tbody tr th:only-of-type {\n",
       "        vertical-align: middle;\n",
       "    }\n",
       "\n",
       "    .dataframe tbody tr th {\n",
       "        vertical-align: top;\n",
       "    }\n",
       "\n",
       "    .dataframe thead th {\n",
       "        text-align: right;\n",
       "    }\n",
       "</style>\n",
       "<table border=\"1\" class=\"dataframe\">\n",
       "  <thead>\n",
       "    <tr style=\"text-align: right;\">\n",
       "      <th></th>\n",
       "      <th>Index</th>\n",
       "      <th>Accident_Severity</th>\n",
       "      <th>Accident Date</th>\n",
       "      <th>Latitude</th>\n",
       "      <th>Light_Conditions</th>\n",
       "      <th>District Area</th>\n",
       "      <th>Longitude</th>\n",
       "      <th>Number_of_Casualties</th>\n",
       "      <th>Number_of_Vehicles</th>\n",
       "      <th>Road_Surface_Conditions</th>\n",
       "      <th>Road_Type</th>\n",
       "      <th>Urban_or_Rural_Area</th>\n",
       "      <th>Weather_Conditions</th>\n",
       "      <th>Vehicle_Type</th>\n",
       "      <th>Month</th>\n",
       "      <th>Year</th>\n",
       "    </tr>\n",
       "  </thead>\n",
       "  <tbody>\n",
       "    <tr>\n",
       "      <th>0</th>\n",
       "      <td>200701BS64157</td>\n",
       "      <td>Serious</td>\n",
       "      <td>2019-05-06</td>\n",
       "      <td>51.506187</td>\n",
       "      <td>Darkness - lights lit</td>\n",
       "      <td>Kensington and Chelsea</td>\n",
       "      <td>-0.209082</td>\n",
       "      <td>1</td>\n",
       "      <td>2</td>\n",
       "      <td>Dry</td>\n",
       "      <td>Single carriageway</td>\n",
       "      <td>Urban</td>\n",
       "      <td>Fine no high winds</td>\n",
       "      <td>Car</td>\n",
       "      <td>May</td>\n",
       "      <td>2019</td>\n",
       "    </tr>\n",
       "    <tr>\n",
       "      <th>1</th>\n",
       "      <td>200701BS65737</td>\n",
       "      <td>Serious</td>\n",
       "      <td>2019-02-07</td>\n",
       "      <td>51.495029</td>\n",
       "      <td>Daylight</td>\n",
       "      <td>Kensington and Chelsea</td>\n",
       "      <td>-0.173647</td>\n",
       "      <td>1</td>\n",
       "      <td>2</td>\n",
       "      <td>Wet or damp</td>\n",
       "      <td>Single carriageway</td>\n",
       "      <td>Urban</td>\n",
       "      <td>Raining no high winds</td>\n",
       "      <td>Car</td>\n",
       "      <td>February</td>\n",
       "      <td>2019</td>\n",
       "    </tr>\n",
       "    <tr>\n",
       "      <th>2</th>\n",
       "      <td>200701BS66127</td>\n",
       "      <td>Serious</td>\n",
       "      <td>2019-08-26</td>\n",
       "      <td>51.517715</td>\n",
       "      <td>Darkness - lighting unknown</td>\n",
       "      <td>Kensington and Chelsea</td>\n",
       "      <td>-0.210215</td>\n",
       "      <td>1</td>\n",
       "      <td>3</td>\n",
       "      <td>Dry</td>\n",
       "      <td>Single carriageway</td>\n",
       "      <td>Urban</td>\n",
       "      <td>Fine no high winds</td>\n",
       "      <td>Taxi/Private hire car</td>\n",
       "      <td>August</td>\n",
       "      <td>2019</td>\n",
       "    </tr>\n",
       "    <tr>\n",
       "      <th>3</th>\n",
       "      <td>200701BS66128</td>\n",
       "      <td>Serious</td>\n",
       "      <td>2019-08-16</td>\n",
       "      <td>51.495478</td>\n",
       "      <td>Daylight</td>\n",
       "      <td>Kensington and Chelsea</td>\n",
       "      <td>-0.202731</td>\n",
       "      <td>1</td>\n",
       "      <td>4</td>\n",
       "      <td>Dry</td>\n",
       "      <td>Single carriageway</td>\n",
       "      <td>Urban</td>\n",
       "      <td>Fine no high winds</td>\n",
       "      <td>Bus or coach (17 or more pass seats)</td>\n",
       "      <td>August</td>\n",
       "      <td>2019</td>\n",
       "    </tr>\n",
       "    <tr>\n",
       "      <th>4</th>\n",
       "      <td>200701BS66837</td>\n",
       "      <td>Slight</td>\n",
       "      <td>2019-03-09</td>\n",
       "      <td>51.488576</td>\n",
       "      <td>Darkness - lights lit</td>\n",
       "      <td>Kensington and Chelsea</td>\n",
       "      <td>-0.192487</td>\n",
       "      <td>1</td>\n",
       "      <td>2</td>\n",
       "      <td>Dry</td>\n",
       "      <td>Single carriageway</td>\n",
       "      <td>Urban</td>\n",
       "      <td>Fine no high winds</td>\n",
       "      <td>Other vehicle</td>\n",
       "      <td>March</td>\n",
       "      <td>2019</td>\n",
       "    </tr>\n",
       "    <tr>\n",
       "      <th>...</th>\n",
       "      <td>...</td>\n",
       "      <td>...</td>\n",
       "      <td>...</td>\n",
       "      <td>...</td>\n",
       "      <td>...</td>\n",
       "      <td>...</td>\n",
       "      <td>...</td>\n",
       "      <td>...</td>\n",
       "      <td>...</td>\n",
       "      <td>...</td>\n",
       "      <td>...</td>\n",
       "      <td>...</td>\n",
       "      <td>...</td>\n",
       "      <td>...</td>\n",
       "      <td>...</td>\n",
       "      <td>...</td>\n",
       "    </tr>\n",
       "    <tr>\n",
       "      <th>660674</th>\n",
       "      <td>201091NM01760</td>\n",
       "      <td>Slight</td>\n",
       "      <td>2022-02-18</td>\n",
       "      <td>57.374005</td>\n",
       "      <td>Daylight</td>\n",
       "      <td>Highland</td>\n",
       "      <td>-3.467828</td>\n",
       "      <td>2</td>\n",
       "      <td>1</td>\n",
       "      <td>Dry</td>\n",
       "      <td>Single carriageway</td>\n",
       "      <td>Rural</td>\n",
       "      <td>Fine no high winds</td>\n",
       "      <td>Car</td>\n",
       "      <td>February</td>\n",
       "      <td>2022</td>\n",
       "    </tr>\n",
       "    <tr>\n",
       "      <th>660675</th>\n",
       "      <td>201091NM01881</td>\n",
       "      <td>Slight</td>\n",
       "      <td>2022-02-21</td>\n",
       "      <td>57.232273</td>\n",
       "      <td>Darkness - no lighting</td>\n",
       "      <td>Highland</td>\n",
       "      <td>-3.809281</td>\n",
       "      <td>1</td>\n",
       "      <td>1</td>\n",
       "      <td>Frost or ice</td>\n",
       "      <td>Single carriageway</td>\n",
       "      <td>Rural</td>\n",
       "      <td>Fine no high winds</td>\n",
       "      <td>Car</td>\n",
       "      <td>February</td>\n",
       "      <td>2022</td>\n",
       "    </tr>\n",
       "    <tr>\n",
       "      <th>660676</th>\n",
       "      <td>201091NM01935</td>\n",
       "      <td>Slight</td>\n",
       "      <td>2022-02-23</td>\n",
       "      <td>57.585044</td>\n",
       "      <td>Daylight</td>\n",
       "      <td>Highland</td>\n",
       "      <td>-3.862727</td>\n",
       "      <td>1</td>\n",
       "      <td>3</td>\n",
       "      <td>Frost or ice</td>\n",
       "      <td>Single carriageway</td>\n",
       "      <td>Rural</td>\n",
       "      <td>Fine no high winds</td>\n",
       "      <td>Car</td>\n",
       "      <td>February</td>\n",
       "      <td>2022</td>\n",
       "    </tr>\n",
       "    <tr>\n",
       "      <th>660677</th>\n",
       "      <td>201091NM01964</td>\n",
       "      <td>Serious</td>\n",
       "      <td>2022-02-23</td>\n",
       "      <td>57.214898</td>\n",
       "      <td>Darkness - no lighting</td>\n",
       "      <td>Highland</td>\n",
       "      <td>-3.823997</td>\n",
       "      <td>1</td>\n",
       "      <td>2</td>\n",
       "      <td>Wet or damp</td>\n",
       "      <td>Single carriageway</td>\n",
       "      <td>Rural</td>\n",
       "      <td>Fine no high winds</td>\n",
       "      <td>Motorcycle over 500cc</td>\n",
       "      <td>February</td>\n",
       "      <td>2022</td>\n",
       "    </tr>\n",
       "    <tr>\n",
       "      <th>660678</th>\n",
       "      <td>201091NM02142</td>\n",
       "      <td>Serious</td>\n",
       "      <td>2022-02-28</td>\n",
       "      <td>57.575210</td>\n",
       "      <td>Daylight</td>\n",
       "      <td>Highland</td>\n",
       "      <td>-3.895673</td>\n",
       "      <td>1</td>\n",
       "      <td>1</td>\n",
       "      <td>Wet or damp</td>\n",
       "      <td>Dual carriageway</td>\n",
       "      <td>Rural</td>\n",
       "      <td>Snowing no high winds</td>\n",
       "      <td>Car</td>\n",
       "      <td>February</td>\n",
       "      <td>2022</td>\n",
       "    </tr>\n",
       "  </tbody>\n",
       "</table>\n",
       "<p>660679 rows × 16 columns</p>\n",
       "</div>"
      ],
      "text/plain": [
       "                Index Accident_Severity Accident Date   Latitude  \\\n",
       "0       200701BS64157           Serious    2019-05-06  51.506187   \n",
       "1       200701BS65737           Serious    2019-02-07  51.495029   \n",
       "2       200701BS66127           Serious    2019-08-26  51.517715   \n",
       "3       200701BS66128           Serious    2019-08-16  51.495478   \n",
       "4       200701BS66837            Slight    2019-03-09  51.488576   \n",
       "...               ...               ...           ...        ...   \n",
       "660674  201091NM01760            Slight    2022-02-18  57.374005   \n",
       "660675  201091NM01881            Slight    2022-02-21  57.232273   \n",
       "660676  201091NM01935            Slight    2022-02-23  57.585044   \n",
       "660677  201091NM01964           Serious    2022-02-23  57.214898   \n",
       "660678  201091NM02142           Serious    2022-02-28  57.575210   \n",
       "\n",
       "                   Light_Conditions           District Area  Longitude  \\\n",
       "0             Darkness - lights lit  Kensington and Chelsea  -0.209082   \n",
       "1                          Daylight  Kensington and Chelsea  -0.173647   \n",
       "2       Darkness - lighting unknown  Kensington and Chelsea  -0.210215   \n",
       "3                          Daylight  Kensington and Chelsea  -0.202731   \n",
       "4             Darkness - lights lit  Kensington and Chelsea  -0.192487   \n",
       "...                             ...                     ...        ...   \n",
       "660674                     Daylight                Highland  -3.467828   \n",
       "660675       Darkness - no lighting                Highland  -3.809281   \n",
       "660676                     Daylight                Highland  -3.862727   \n",
       "660677       Darkness - no lighting                Highland  -3.823997   \n",
       "660678                     Daylight                Highland  -3.895673   \n",
       "\n",
       "        Number_of_Casualties  Number_of_Vehicles Road_Surface_Conditions  \\\n",
       "0                          1                   2                     Dry   \n",
       "1                          1                   2             Wet or damp   \n",
       "2                          1                   3                     Dry   \n",
       "3                          1                   4                     Dry   \n",
       "4                          1                   2                     Dry   \n",
       "...                      ...                 ...                     ...   \n",
       "660674                     2                   1                     Dry   \n",
       "660675                     1                   1            Frost or ice   \n",
       "660676                     1                   3            Frost or ice   \n",
       "660677                     1                   2             Wet or damp   \n",
       "660678                     1                   1             Wet or damp   \n",
       "\n",
       "                 Road_Type Urban_or_Rural_Area     Weather_Conditions  \\\n",
       "0       Single carriageway               Urban     Fine no high winds   \n",
       "1       Single carriageway               Urban  Raining no high winds   \n",
       "2       Single carriageway               Urban     Fine no high winds   \n",
       "3       Single carriageway               Urban     Fine no high winds   \n",
       "4       Single carriageway               Urban     Fine no high winds   \n",
       "...                    ...                 ...                    ...   \n",
       "660674  Single carriageway               Rural     Fine no high winds   \n",
       "660675  Single carriageway               Rural     Fine no high winds   \n",
       "660676  Single carriageway               Rural     Fine no high winds   \n",
       "660677  Single carriageway               Rural     Fine no high winds   \n",
       "660678    Dual carriageway               Rural  Snowing no high winds   \n",
       "\n",
       "                                Vehicle_Type     Month  Year  \n",
       "0                                        Car       May  2019  \n",
       "1                                        Car  February  2019  \n",
       "2                      Taxi/Private hire car    August  2019  \n",
       "3       Bus or coach (17 or more pass seats)    August  2019  \n",
       "4                              Other vehicle     March  2019  \n",
       "...                                      ...       ...   ...  \n",
       "660674                                   Car  February  2022  \n",
       "660675                                   Car  February  2022  \n",
       "660676                                   Car  February  2022  \n",
       "660677                 Motorcycle over 500cc  February  2022  \n",
       "660678                                   Car  February  2022  \n",
       "\n",
       "[660679 rows x 16 columns]"
      ]
     },
     "execution_count": 23,
     "metadata": {},
     "output_type": "execute_result"
    }
   ],
   "source": [
    "ukroadaccident['Accident Date'] = pd.to_datetime(ukroadaccident['Accident Date'])\n",
    "ukroadaccident['Year'] = ukroadaccident['Accident Date'].dt.year\n",
    "ukroadaccident"
   ]
  },
  {
   "cell_type": "markdown",
   "id": "34e81a54-d66a-4f14-b5da-ee11f2875a36",
   "metadata": {},
   "source": [
    "<h1>---Changing the Data Type of the Columns I Created---</h1>"
   ]
  },
  {
   "cell_type": "code",
   "execution_count": 59,
   "id": "2c4cb968-d23c-4ff0-acca-d239a2fa95a8",
   "metadata": {},
   "outputs": [],
   "source": [
    "ukroadaccident['Month'] = ukroadaccident['Month'].astype('category')\n",
    "ukroadaccident['Year'] = ukroadaccident['Year'].astype('category')"
   ]
  },
  {
   "cell_type": "code",
   "execution_count": 60,
   "id": "fed442ad-d13b-429e-a62d-2e9c61c807a1",
   "metadata": {},
   "outputs": [
    {
     "name": "stdout",
     "output_type": "stream",
     "text": [
      "<class 'pandas.core.frame.DataFrame'>\n",
      "RangeIndex: 660679 entries, 0 to 660678\n",
      "Data columns (total 16 columns):\n",
      " #   Column                   Non-Null Count   Dtype         \n",
      "---  ------                   --------------   -----         \n",
      " 0   Index                    660679 non-null  category      \n",
      " 1   Accident_Severity        660679 non-null  category      \n",
      " 2   Accident Date            660679 non-null  datetime64[ns]\n",
      " 3   Latitude                 660679 non-null  float64       \n",
      " 4   Light_Conditions         660679 non-null  category      \n",
      " 5   District Area            660679 non-null  category      \n",
      " 6   Longitude                660679 non-null  float64       \n",
      " 7   Number_of_Casualties     660679 non-null  int64         \n",
      " 8   Number_of_Vehicles       660679 non-null  int64         \n",
      " 9   Road_Surface_Conditions  660679 non-null  category      \n",
      " 10  Road_Type                660679 non-null  category      \n",
      " 11  Urban_or_Rural_Area      660679 non-null  category      \n",
      " 12  Weather_Conditions       660679 non-null  category      \n",
      " 13  Vehicle_Type             660679 non-null  category      \n",
      " 14  Month                    660679 non-null  category      \n",
      " 15  Year                     660679 non-null  category      \n",
      "dtypes: category(11), datetime64[ns](1), float64(2), int64(2)\n",
      "memory usage: 54.0 MB\n"
     ]
    }
   ],
   "source": [
    "ukroadaccident.info()"
   ]
  },
  {
   "cell_type": "markdown",
   "id": "a93fcec4-0079-420e-ab31-a6bd284f1dba",
   "metadata": {},
   "source": [
    "<hr>\n",
    "<h1>---20 Questions and Insights---</h1>\n",
    "<hr>"
   ]
  },
  {
   "cell_type": "markdown",
   "id": "3beb076d-b9c6-4ae7-85e4-38bb6d56fc57",
   "metadata": {},
   "source": [
    "<h1>~EDA~</h1>"
   ]
  },
  {
   "cell_type": "markdown",
   "id": "d5ea8643-da8e-49a8-8d1d-2c6a4491b63e",
   "metadata": {},
   "source": [
    "<h1>1. What is the most usual vehicle type?</h1>"
   ]
  },
  {
   "cell_type": "code",
   "execution_count": 48,
   "id": "4605ec78-6b0e-4f47-9ed2-dcaee27ef55d",
   "metadata": {},
   "outputs": [
    {
     "data": {
      "text/plain": [
       "0    Car\n",
       "Name: Vehicle_Type, dtype: category\n",
       "Categories (16, object): ['Agricultural vehicle', 'Bus or coach (17 or more pass seats)', 'Car', 'Data missing or out of range', ..., 'Pedal cycle', 'Ridden horse', 'Taxi/Private hire car', 'Van / Goods 3.5 tonnes mgw or under']"
      ]
     },
     "execution_count": 48,
     "metadata": {},
     "output_type": "execute_result"
    }
   ],
   "source": [
    "ukroadaccident['Vehicle_Type'].mode()"
   ]
  },
  {
   "cell_type": "markdown",
   "id": "a3f08193-1006-4bb0-84d7-a51fd2b470be",
   "metadata": {},
   "source": [
    "<h2><strong>Insight: </strong> <i>According to the result, the most frequent/usual type of vehicle involve in accidents is car.</i></h2>"
   ]
  },
  {
   "cell_type": "markdown",
   "id": "5b964d9f-fdab-4941-b8ab-8438c6e52a47",
   "metadata": {},
   "source": [
    "<hr>\n",
    "<h1>2. What is the usual light condition during the accidents?</h1>"
   ]
  },
  {
   "cell_type": "code",
   "execution_count": 49,
   "id": "8d02caef-856b-4d99-a3d2-87ed0de712b4",
   "metadata": {},
   "outputs": [
    {
     "data": {
      "text/plain": [
       "0    Daylight\n",
       "Name: Light_Conditions, dtype: category\n",
       "Categories (5, object): ['Darkness - lighting unknown', 'Darkness - lights lit', 'Darkness - lights unlit', 'Darkness - no lighting', 'Daylight']"
      ]
     },
     "execution_count": 49,
     "metadata": {},
     "output_type": "execute_result"
    }
   ],
   "source": [
    "ukroadaccident['Light_Conditions'].mode()"
   ]
  },
  {
   "cell_type": "markdown",
   "id": "726f49f0-2790-4fba-9c0f-fc9774eac9bd",
   "metadata": {},
   "source": [
    "<h2> <strong>Insight: </strong> <i>The result shows that accidents are usually happening during daylight.</i> </h2>"
   ]
  },
  {
   "cell_type": "markdown",
   "id": "60192ad0-1b92-46e1-8063-95cdc7efd8d9",
   "metadata": {},
   "source": [
    "<hr>\n",
    "<h1>3. In terms of road surface conditions, what is the the most frequent?</h1>"
   ]
  },
  {
   "cell_type": "code",
   "execution_count": 50,
   "id": "f58e7db6-f76a-428d-b4e2-09ab902a1648",
   "metadata": {},
   "outputs": [
    {
     "data": {
      "text/plain": [
       "0    Dry\n",
       "Name: Road_Surface_Conditions, dtype: category\n",
       "Categories (5, object): ['Dry', 'Flood over 3cm. deep', 'Frost or ice', 'Snow', 'Wet or damp']"
      ]
     },
     "execution_count": 50,
     "metadata": {},
     "output_type": "execute_result"
    }
   ],
   "source": [
    "ukroadaccident['Road_Surface_Conditions'].mode()"
   ]
  },
  {
   "cell_type": "markdown",
   "id": "6c619a55-57d2-4c39-a497-c7b61d3ddfa7",
   "metadata": {},
   "source": [
    "<h2> <strong>Insight: </strong> <i>Based on the result, dry road surface condition are prone to accidents.</i> </h2>"
   ]
  },
  {
   "cell_type": "markdown",
   "id": "9f8a1964-0d37-49b1-84f4-2a2117f9e1e6",
   "metadata": {},
   "source": [
    "<hr>\n",
    "<h1>4. How many number of vehicles are mostly being involved during accidents?</h1>"
   ]
  },
  {
   "cell_type": "code",
   "execution_count": 51,
   "id": "da4e9f3c-a55d-41e5-85a2-4172c3674b3b",
   "metadata": {},
   "outputs": [
    {
     "data": {
      "text/plain": [
       "0    2\n",
       "Name: Number_of_Vehicles, dtype: int64"
      ]
     },
     "execution_count": 51,
     "metadata": {},
     "output_type": "execute_result"
    }
   ],
   "source": [
    "ukroadaccident['Number_of_Vehicles'].mode()"
   ]
  },
  {
   "cell_type": "markdown",
   "id": "5b1ae7eb-5b76-4c98-9f11-dfd2eee2dc68",
   "metadata": {},
   "source": [
    "<h2> <strong>Insight: </strong> <i>The result shows that two vehicles are mostly involved during road accidents.</i> </h2>"
   ]
  },
  {
   "cell_type": "markdown",
   "id": "28d4651e-95d6-452d-94cf-f084cd084786",
   "metadata": {},
   "source": [
    "<hr>\n",
    "<h1>5. What type of road does the accidents usually happen? </h1>"
   ]
  },
  {
   "cell_type": "code",
   "execution_count": 52,
   "id": "35aeaaab-105c-4a99-a0d8-251b0661e7a9",
   "metadata": {},
   "outputs": [
    {
     "data": {
      "text/plain": [
       "0    Single carriageway\n",
       "Name: Road_Type, dtype: category\n",
       "Categories (5, object): ['Dual carriageway', 'One way street', 'Roundabout', 'Single carriageway', 'Slip road']"
      ]
     },
     "execution_count": 52,
     "metadata": {},
     "output_type": "execute_result"
    }
   ],
   "source": [
    "ukroadaccident['Road_Type'].mode()"
   ]
  },
  {
   "cell_type": "markdown",
   "id": "d01b4d78-d96b-4d3e-b36a-154720275215",
   "metadata": {},
   "source": [
    "<h2> <strong>Insight: </strong> <i>According to the result, accidents usually happen on a single carriageway road.</i> </h2>"
   ]
  },
  {
   "cell_type": "markdown",
   "id": "fb6f7cae-8356-4afe-be5b-2b96bccbdb30",
   "metadata": {},
   "source": [
    "<h1>6. How many record of accidents per year?</h1>"
   ]
  },
  {
   "cell_type": "code",
   "execution_count": 24,
   "id": "726480b8-0dae-4c21-8323-ebcb2bdfcbfe",
   "metadata": {},
   "outputs": [
    {
     "data": {
      "text/plain": [
       "Year\n",
       "2019    182115\n",
       "2020    170591\n",
       "2021    163554\n",
       "2022    144419\n",
       "Name: count, dtype: int64"
      ]
     },
     "execution_count": 24,
     "metadata": {},
     "output_type": "execute_result"
    }
   ],
   "source": [
    "ukroadaccident['Year'].value_counts()"
   ]
  },
  {
   "cell_type": "markdown",
   "id": "e64bfe68-096c-47a0-8420-6b27a05ec8ef",
   "metadata": {},
   "source": [
    "<h2> <strong>Insight: </strong> <i>The result shows that the year 2019, had the highest record of accidents with 182,115. The second most hightest is the year 2020 with 170,591 records. Next is 2021 with 163,554 records. While the year that got the least records is 2022 with 144,419. </i> </h2>"
   ]
  },
  {
   "cell_type": "markdown",
   "id": "b099f580-99a8-4af1-af0e-9e2a0e2dc746",
   "metadata": {},
   "source": [
    "<h1>7. In terms of weather conditions, when does the least and most accidents record?</h1>"
   ]
  },
  {
   "cell_type": "code",
   "execution_count": 47,
   "id": "c1876650-163a-4832-89ef-74e91c4bfcf7",
   "metadata": {},
   "outputs": [
    {
     "data": {
      "text/plain": [
       "Weather_Conditions\n",
       "Fine no high winds       535013\n",
       "Raining no high winds     79696\n",
       "Other                     17150\n",
       "Raining + high winds       9615\n",
       "Fine + high winds          8554\n",
       "Snowing no high winds      6238\n",
       "Fog or mist                3528\n",
       "Snowing + high winds        885\n",
       "Name: count, dtype: int64"
      ]
     },
     "execution_count": 47,
     "metadata": {},
     "output_type": "execute_result"
    }
   ],
   "source": [
    "ukroadaccident['Weather_Conditions'].value_counts()"
   ]
  },
  {
   "cell_type": "markdown",
   "id": "3b9f1a11-fe33-41a7-a3ec-854695861d83",
   "metadata": {},
   "source": [
    "<h2> <strong>Insight: </strong> <i>Based on the result, accidents usually happen during 'fine no high winds' weather condition, then the least accident record happens during 'snowing + high winds'.</i> </h2>"
   ]
  },
  {
   "cell_type": "markdown",
   "id": "7eca60f3-2b73-40d3-abd3-882cc09cb57a",
   "metadata": {},
   "source": [
    "<h1>~Aggregation~</h1>"
   ]
  },
  {
   "cell_type": "markdown",
   "id": "2a19e178-da4c-4522-9636-166729be8d01",
   "metadata": {},
   "source": [
    "<h1>8. What is the total number of accidents per road type?</h1>"
   ]
  },
  {
   "cell_type": "code",
   "execution_count": 36,
   "id": "5418ae0b-1e0c-495d-9cbc-570b06c3d267",
   "metadata": {},
   "outputs": [
    {
     "data": {
      "text/plain": [
       "Road_Type\n",
       "Dual carriageway       99424\n",
       "One way street         13559\n",
       "Roundabout             43992\n",
       "Single carriageway    496663\n",
       "Slip road               7041\n",
       "dtype: int64"
      ]
     },
     "execution_count": 36,
     "metadata": {},
     "output_type": "execute_result"
    }
   ],
   "source": [
    "ukroadaccident.groupby('Road_Type').size()"
   ]
  },
  {
   "cell_type": "markdown",
   "id": "6019b06a-d2a5-437f-888f-6243701c4d14",
   "metadata": {},
   "source": [
    "<h2> <strong>Insight: </strong> <i>We can see from the result that the road type that had the highest number of accidents is the Single Carriageway with 496,663 records. Followed by Dual Carriageway with 99,424 records. The third is Roundabout that had 43,992 accident record, then the One way street had 13,559 records, and the road type that had the least record is the Slip road with 7,041 records.</i> </h2>"
   ]
  },
  {
   "cell_type": "markdown",
   "id": "d11a7b90-377c-45e5-b22a-669266820188",
   "metadata": {},
   "source": [
    "<h1>9. What is the average of number of casualties involved in accidents by accident severity?</h1>"
   ]
  },
  {
   "cell_type": "code",
   "execution_count": 39,
   "id": "ddea5649-e4af-4429-8968-fe48fd785b83",
   "metadata": {},
   "outputs": [
    {
     "data": {
      "text/plain": [
       "Accident_Severity\n",
       "Fatal      1.903129\n",
       "Serious    1.467280\n",
       "Slight     1.331402\n",
       "Name: Number_of_Casualties, dtype: float64"
      ]
     },
     "execution_count": 39,
     "metadata": {},
     "output_type": "execute_result"
    }
   ],
   "source": [
    "ukroadaccident.groupby('Accident_Severity')['Number_of_Casualties'].mean()"
   ]
  },
  {
   "cell_type": "markdown",
   "id": "64a2238e-4bc4-4452-bdea-de422387425d",
   "metadata": {},
   "source": [
    "<h2> <strong>Insight: </strong> <i>The average of accident severity in terms of fatal is 1.903129 (highest), serious is 1.467280, and slight is 1.331402 (lowest).</i> </h2>"
   ]
  },
  {
   "cell_type": "markdown",
   "id": "b0726253-f606-4e62-83ff-e311b7ee91e6",
   "metadata": {},
   "source": [
    "<h1>10. How do accident severities vary across different light conditions?</h1>"
   ]
  },
  {
   "cell_type": "code",
   "execution_count": 41,
   "id": "869d11bf-a606-4dd7-9e22-103bf79a8ac8",
   "metadata": {},
   "outputs": [
    {
     "data": {
      "text/plain": [
       "Accident_Severity  Light_Conditions           \n",
       "Fatal              Darkness - lighting unknown        68\n",
       "                   Darkness - lights lit            1860\n",
       "                   Darkness - lights unlit            45\n",
       "                   Darkness - no lighting           1612\n",
       "                   Daylight                         5076\n",
       "Serious            Darkness - lighting unknown       794\n",
       "                   Darkness - lights lit           19130\n",
       "                   Darkness - lights unlit           360\n",
       "                   Darkness - no lighting           7174\n",
       "                   Daylight                        60759\n",
       "Slight             Darkness - lighting unknown      5622\n",
       "                   Darkness - lights lit          108345\n",
       "                   Darkness - lights unlit          2138\n",
       "                   Darkness - no lighting          28651\n",
       "                   Daylight                       419045\n",
       "dtype: int64"
      ]
     },
     "execution_count": 41,
     "metadata": {},
     "output_type": "execute_result"
    }
   ],
   "source": [
    "ukroadaccident.groupby(['Accident_Severity', 'Light_Conditions']).size()"
   ]
  },
  {
   "cell_type": "markdown",
   "id": "05690768-f22b-4e1f-a10e-03c4d06dd511",
   "metadata": {},
   "source": [
    "<h2> <strong>Insight: </strong> <i>We can conclude that all the three types of accident severity happens the most during the daylight, while the three of them also happens the least during darkness - lights unlit. </i> </h2>"
   ]
  },
  {
   "cell_type": "markdown",
   "id": "7e076ae6-417a-431c-8e8d-2899e6cf7f68",
   "metadata": {},
   "source": [
    "<h1>11. What is the distribution of accidents by road type and road surface condition?</h1>"
   ]
  },
  {
   "cell_type": "code",
   "execution_count": 43,
   "id": "050163a0-8bfd-4685-8129-b5ad58d77c72",
   "metadata": {},
   "outputs": [
    {
     "data": {
      "text/plain": [
       "Road_Type           Road_Surface_Conditions\n",
       "Dual carriageway    Dry                         66272\n",
       "                    Flood over 3cm. deep          302\n",
       "                    Frost or ice                 2408\n",
       "                    Snow                          909\n",
       "                    Wet or damp                 29533\n",
       "One way street      Dry                         10100\n",
       "                    Flood over 3cm. deep            5\n",
       "                    Frost or ice                  183\n",
       "                    Snow                           76\n",
       "                    Wet or damp                  3195\n",
       "Roundabout          Dry                         30784\n",
       "                    Flood over 3cm. deep           22\n",
       "                    Frost or ice                  745\n",
       "                    Snow                          232\n",
       "                    Wet or damp                 12209\n",
       "Single carriageway  Dry                        336671\n",
       "                    Flood over 3cm. deep          679\n",
       "                    Frost or ice                15003\n",
       "                    Snow                         4613\n",
       "                    Wet or damp                139697\n",
       "Slip road           Dry                          4720\n",
       "                    Flood over 3cm. deep            9\n",
       "                    Frost or ice                  178\n",
       "                    Snow                           60\n",
       "                    Wet or damp                  2074\n",
       "dtype: int64"
      ]
     },
     "execution_count": 43,
     "metadata": {},
     "output_type": "execute_result"
    }
   ],
   "source": [
    "ukroadaccident.groupby(['Road_Type', 'Road_Surface_Conditions']).size()"
   ]
  },
  {
   "cell_type": "markdown",
   "id": "6b12bc5c-7de2-4edc-bc50-1f24b428817f",
   "metadata": {},
   "source": [
    "<h2> <strong>Insight: </strong> <i>The result shows that all of the road types had the same highest number of accidents in terms of road surface conditions which is dry, they also had the same least number of accidents which is flood over 3cm. deep (road surface condition). </i> </h2>"
   ]
  },
  {
   "cell_type": "markdown",
   "id": "1097e090-721d-4571-9c86-72b309084e16",
   "metadata": {},
   "source": [
    "<h1>12. What type of area does accidents happen the most?</h1>"
   ]
  },
  {
   "cell_type": "code",
   "execution_count": 44,
   "id": "ca8b80a9-fdb1-4451-a39f-e2fbeb82a23f",
   "metadata": {},
   "outputs": [
    {
     "data": {
      "text/plain": [
       "Urban_or_Rural_Area\n",
       "Rural          238990\n",
       "Unallocated        11\n",
       "Urban          421678\n",
       "dtype: int64"
      ]
     },
     "execution_count": 44,
     "metadata": {},
     "output_type": "execute_result"
    }
   ],
   "source": [
    "ukroadaccident.groupby('Urban_or_Rural_Area').size()"
   ]
  },
  {
   "cell_type": "markdown",
   "id": "c93b54d5-0d57-49b8-819b-59c5af30c63b",
   "metadata": {},
   "source": [
    "<h2> <strong>Insight: </strong> <i>According to the result, accidents usually happen at urban areas.</i> </h2>"
   ]
  },
  {
   "cell_type": "markdown",
   "id": "d45fe357-72f9-4493-8378-bbe3acd02647",
   "metadata": {},
   "source": [
    "<h1>13. What month does accidents usually happens?</h1>"
   ]
  },
  {
   "cell_type": "code",
   "execution_count": 46,
   "id": "083926c8-6c6d-428b-b2fb-5a28e9a24700",
   "metadata": {},
   "outputs": [
    {
     "data": {
      "text/plain": [
       "Month\n",
       "April        53656\n",
       "August       54721\n",
       "December     50216\n",
       "February     49042\n",
       "January      57226\n",
       "July         55937\n",
       "June         56259\n",
       "March        53802\n",
       "May          57038\n",
       "November     58687\n",
       "October      57946\n",
       "September    56149\n",
       "dtype: int64"
      ]
     },
     "execution_count": 46,
     "metadata": {},
     "output_type": "execute_result"
    }
   ],
   "source": [
    "ukroadaccident.groupby('Month').size()"
   ]
  },
  {
   "cell_type": "markdown",
   "id": "03add06d-d91d-47d0-93fd-6ea9374cb9da",
   "metadata": {},
   "source": [
    "<h2> <strong>Insight: </strong> <i>The result shows that accidents usually happen during the month of November.</i> </h2>"
   ]
  },
  {
   "cell_type": "markdown",
   "id": "9e2692af-419c-409c-a9bf-4321c4c5ffb7",
   "metadata": {},
   "source": [
    "<h1>14. What is the distribution of accidents by accident severity and vehicle type? Look for the most type of vehicle.</h1>"
   ]
  },
  {
   "cell_type": "code",
   "execution_count": 56,
   "id": "5ea4011b-4426-436e-9d8d-4225add02028",
   "metadata": {},
   "outputs": [
    {
     "data": {
      "text/plain": [
       "Accident_Severity  Vehicle_Type                         \n",
       "Fatal              Agricultural vehicle                         21\n",
       "                   Bus or coach (17 or more pass seats)        325\n",
       "                   Car                                        6577\n",
       "                   Data missing or out of range                  0\n",
       "                   Goods 7.5 tonnes mgw and over               216\n",
       "                   Goods over 3.5t. and under 7.5t              67\n",
       "                   Minibus (8 - 16 passenger seats)             29\n",
       "                   Motorcycle 125cc and under                  189\n",
       "                   Motorcycle 50cc and under                    95\n",
       "                   Motorcycle over 125cc and up to 500cc       105\n",
       "                   Motorcycle over 500cc                       339\n",
       "                   Other vehicle                                70\n",
       "                   Pedal cycle                                   6\n",
       "                   Ridden horse                                  0\n",
       "                   Taxi/Private hire car                       155\n",
       "                   Van / Goods 3.5 tonnes mgw or under         467\n",
       "Serious            Agricultural vehicle                        282\n",
       "                   Bus or coach (17 or more pass seats)       3373\n",
       "                   Car                                       66461\n",
       "                   Data missing or out of range                  0\n",
       "                   Goods 7.5 tonnes mgw and over              2321\n",
       "                   Goods over 3.5t. and under 7.5t             857\n",
       "                   Minibus (8 - 16 passenger seats)            276\n",
       "                   Motorcycle 125cc and under                 2031\n",
       "                   Motorcycle 50cc and under                  1014\n",
       "                   Motorcycle over 125cc and up to 500cc      1014\n",
       "                   Motorcycle over 500cc                      3457\n",
       "                   Other vehicle                               767\n",
       "                   Pedal cycle                                  39\n",
       "                   Ridden horse                                  0\n",
       "                   Taxi/Private hire car                      1771\n",
       "                   Van / Goods 3.5 tonnes mgw or under        4554\n",
       "Slight             Agricultural vehicle                       1644\n",
       "                   Bus or coach (17 or more pass seats)      22180\n",
       "                   Car                                      424954\n",
       "                   Data missing or out of range                  6\n",
       "                   Goods 7.5 tonnes mgw and over             14770\n",
       "                   Goods over 3.5t. and under 7.5t            5172\n",
       "                   Minibus (8 - 16 passenger seats)           1671\n",
       "                   Motorcycle 125cc and under                13049\n",
       "                   Motorcycle 50cc and under                  6494\n",
       "                   Motorcycle over 125cc and up to 500cc      6537\n",
       "                   Motorcycle over 500cc                     21861\n",
       "                   Other vehicle                              4800\n",
       "                   Pedal cycle                                 152\n",
       "                   Ridden horse                                  4\n",
       "                   Taxi/Private hire car                     11368\n",
       "                   Van / Goods 3.5 tonnes mgw or under       29139\n",
       "dtype: int64"
      ]
     },
     "execution_count": 56,
     "metadata": {},
     "output_type": "execute_result"
    }
   ],
   "source": [
    "ukroadaccident.groupby(['Accident_Severity','Vehicle_Type']).size()"
   ]
  },
  {
   "cell_type": "markdown",
   "id": "8ccb4144-3614-48f9-8736-3c605f7e94ca",
   "metadata": {},
   "source": [
    "<h2> <strong>Insight: </strong> <i>According to the result, car is the vehicle type that got the highest accident of all the three types of accident severity.</i> </h2>"
   ]
  },
  {
   "cell_type": "markdown",
   "id": "f800ccea-1f21-4c08-97dd-654faa6f52a6",
   "metadata": {},
   "source": [
    "<h1>~Correlation~</h1>"
   ]
  },
  {
   "cell_type": "code",
   "execution_count": 61,
   "id": "8d4cc983-c4f5-488c-b0f5-21b8db96ae7f",
   "metadata": {},
   "outputs": [
    {
     "name": "stdout",
     "output_type": "stream",
     "text": [
      "<class 'pandas.core.frame.DataFrame'>\n",
      "RangeIndex: 660679 entries, 0 to 660678\n",
      "Data columns (total 16 columns):\n",
      " #   Column                   Non-Null Count   Dtype         \n",
      "---  ------                   --------------   -----         \n",
      " 0   Index                    660679 non-null  category      \n",
      " 1   Accident_Severity        660679 non-null  category      \n",
      " 2   Accident Date            660679 non-null  datetime64[ns]\n",
      " 3   Latitude                 660679 non-null  float64       \n",
      " 4   Light_Conditions         660679 non-null  category      \n",
      " 5   District Area            660679 non-null  category      \n",
      " 6   Longitude                660679 non-null  float64       \n",
      " 7   Number_of_Casualties     660679 non-null  int64         \n",
      " 8   Number_of_Vehicles       660679 non-null  int64         \n",
      " 9   Road_Surface_Conditions  660679 non-null  category      \n",
      " 10  Road_Type                660679 non-null  category      \n",
      " 11  Urban_or_Rural_Area      660679 non-null  category      \n",
      " 12  Weather_Conditions       660679 non-null  category      \n",
      " 13  Vehicle_Type             660679 non-null  category      \n",
      " 14  Month                    660679 non-null  category      \n",
      " 15  Year                     660679 non-null  category      \n",
      "dtypes: category(11), datetime64[ns](1), float64(2), int64(2)\n",
      "memory usage: 54.0 MB\n"
     ]
    }
   ],
   "source": [
    "ukroadaccident.info()"
   ]
  },
  {
   "cell_type": "markdown",
   "id": "670bba35-6856-43c4-8884-7d46758d1fa3",
   "metadata": {},
   "source": [
    "<h1>15. Is there a correlation between the number of casualties and number of vehicles?</h1>"
   ]
  },
  {
   "cell_type": "code",
   "execution_count": 58,
   "id": "e6ea8744-1ba5-413c-88f9-e2e3d72c80dc",
   "metadata": {},
   "outputs": [
    {
     "data": {
      "text/plain": [
       "np.float64(0.2288888612692756)"
      ]
     },
     "execution_count": 58,
     "metadata": {},
     "output_type": "execute_result"
    }
   ],
   "source": [
    "ukroadaccident['Number_of_Casualties'].corr(ukroadaccident['Number_of_Vehicles'])"
   ]
  },
  {
   "cell_type": "markdown",
   "id": "b410be02-3cd3-4f81-a71d-9554c10708e1",
   "metadata": {},
   "source": [
    "<h2> <strong>Insight: </strong> <i>The result shows that number of casualties and number of vehicles has no correlation.</i> </h2>"
   ]
  },
  {
   "cell_type": "markdown",
   "id": "3c78e0ba-a1a8-4d01-85b0-80aebf1cbcd2",
   "metadata": {},
   "source": [
    "<h1>16. Is there a correlation betweem latitude number of casualties?</h1>"
   ]
  },
  {
   "cell_type": "code",
   "execution_count": 63,
   "id": "ea2afa9a-1d82-42ca-97c8-364997144be2",
   "metadata": {},
   "outputs": [
    {
     "data": {
      "text/plain": [
       "np.float64(0.032200686625906395)"
      ]
     },
     "execution_count": 63,
     "metadata": {},
     "output_type": "execute_result"
    }
   ],
   "source": [
    "ukroadaccident['Latitude'].corr(ukroadaccident['Number_of_Casualties'])"
   ]
  },
  {
   "cell_type": "markdown",
   "id": "66e90315-0c43-4f13-816f-9ab7fd2341fb",
   "metadata": {},
   "source": [
    "<h2> <strong>Insight: </strong> <i>Based on the result, there is no correlation between laltitude and number of casualties.</i> </h2>"
   ]
  },
  {
   "cell_type": "markdown",
   "id": "5acdc8e6-1d11-4cea-8fc4-953cf9b0fb32",
   "metadata": {},
   "source": [
    "<h1>17. Is there a correlation between longitude and number of casualties?</h1>"
   ]
  },
  {
   "cell_type": "code",
   "execution_count": 64,
   "id": "c942c2df-f2d4-486d-8356-8b693d7c4eb4",
   "metadata": {},
   "outputs": [
    {
     "data": {
      "text/plain": [
       "np.float64(-0.0404056457884545)"
      ]
     },
     "execution_count": 64,
     "metadata": {},
     "output_type": "execute_result"
    }
   ],
   "source": [
    "ukroadaccident['Longitude'].corr(ukroadaccident['Number_of_Casualties'])"
   ]
  },
  {
   "cell_type": "markdown",
   "id": "b550e5d6-5283-4a98-9826-5290aec438fa",
   "metadata": {},
   "source": [
    "<h2> <strong>Insight: </strong> <i>The result shows that there is no correlation between longitude and number of casualties.</i> </h2>"
   ]
  },
  {
   "cell_type": "markdown",
   "id": "0df9161d-20c3-4241-8320-0b3c7ce99699",
   "metadata": {},
   "source": [
    "<h1>18. Is there a significant difference between accident severity and number of vehicles?</h1>"
   ]
  },
  {
   "cell_type": "code",
   "execution_count": 65,
   "id": "094c613a-e624-4154-b7c4-e5efca15853f",
   "metadata": {},
   "outputs": [
    {
     "data": {
      "text/plain": [
       "['Serious', 'Slight', 'Fatal']\n",
       "Categories (3, object): ['Fatal', 'Serious', 'Slight']"
      ]
     },
     "execution_count": 65,
     "metadata": {},
     "output_type": "execute_result"
    }
   ],
   "source": [
    "ukroadaccident['Accident_Severity'].unique()"
   ]
  },
  {
   "cell_type": "code",
   "execution_count": 67,
   "id": "63f6e2b3-9bde-4523-815f-c7b629797fe2",
   "metadata": {},
   "outputs": [],
   "source": [
    "vehiserious = ukroadaccident[ukroadaccident['Accident_Severity'] == 'Serious']['Number_of_Vehicles']\n",
    "vehislight = ukroadaccident[ukroadaccident['Accident_Severity'] == 'Slight']['Number_of_Vehicles']\n",
    "vehifatal = ukroadaccident[ukroadaccident['Accident_Severity'] == 'Fatal']['Number_of_Vehicles']"
   ]
  },
  {
   "cell_type": "code",
   "execution_count": 68,
   "id": "e11a2589-bea4-44d2-afbf-21eabe04ee74",
   "metadata": {},
   "outputs": [
    {
     "data": {
      "text/plain": [
       "np.float64(0.0)"
      ]
     },
     "execution_count": 68,
     "metadata": {},
     "output_type": "execute_result"
    }
   ],
   "source": [
    "result, pvalue = f_oneway(vehiserious, vehislight, vehifatal)\n",
    "pvalue"
   ]
  },
  {
   "cell_type": "markdown",
   "id": "ba4bbc86-4cbf-43fd-9783-13529d566b3a",
   "metadata": {},
   "source": [
    "<h2> <strong>Insight: </strong> <i>The result shows that there is extremely significance between the accident severity and number of vehicles, it shows that they are very related to each other.</i> </h2>"
   ]
  },
  {
   "cell_type": "markdown",
   "id": "9118be1a-b507-431b-87d0-3d4520a5e2d6",
   "metadata": {},
   "source": [
    "<h1>19. Is there a significant difference between the area and number of casualties?</h1>"
   ]
  },
  {
   "cell_type": "code",
   "execution_count": 69,
   "id": "cbbbc916-a5e6-401f-a610-db3e3b61bc79",
   "metadata": {},
   "outputs": [
    {
     "data": {
      "text/plain": [
       "['Urban', 'Rural', 'Unallocated']\n",
       "Categories (3, object): ['Rural', 'Unallocated', 'Urban']"
      ]
     },
     "execution_count": 69,
     "metadata": {},
     "output_type": "execute_result"
    }
   ],
   "source": [
    "ukroadaccident['Urban_or_Rural_Area'].unique()"
   ]
  },
  {
   "cell_type": "code",
   "execution_count": 70,
   "id": "ffbd893e-bc17-4dba-a940-40afd5fe533d",
   "metadata": {},
   "outputs": [],
   "source": [
    "urbancasualty = ukroadaccident[ukroadaccident['Urban_or_Rural_Area'] == 'Urban']['Number_of_Casualties']\n",
    "ruralcasualty = ukroadaccident[ukroadaccident['Urban_or_Rural_Area'] == 'Rural']['Number_of_Casualties']\n",
    "unallocatedcasualty = ukroadaccident[ukroadaccident['Urban_or_Rural_Area'] == 'Unallocated']['Number_of_Casualties']"
   ]
  },
  {
   "cell_type": "code",
   "execution_count": 72,
   "id": "3f4b6217-23a7-4d8b-afa4-bf7d756a303a",
   "metadata": {},
   "outputs": [
    {
     "data": {
      "text/plain": [
       "np.float64(0.0)"
      ]
     },
     "execution_count": 72,
     "metadata": {},
     "output_type": "execute_result"
    }
   ],
   "source": [
    "result, pvalue = f_oneway(urbancasualty, ruralcasualty, unallocatedcasualty)\n",
    "pvalue"
   ]
  },
  {
   "cell_type": "markdown",
   "id": "d4b61afb-98b1-46fd-a090-8f89518fafb8",
   "metadata": {},
   "source": [
    "<h2> <strong>Insight: </strong> <i>According to the result, there is a significant difference between the areas and the number of casualties.</i> </h2>"
   ]
  },
  {
   "cell_type": "markdown",
   "id": "e6cd9596-0fb8-4280-8c5c-0303b9cf5793",
   "metadata": {},
   "source": [
    "<h1>20. Is there a significant difference between light conditions and latitude?</h1>"
   ]
  },
  {
   "cell_type": "code",
   "execution_count": 73,
   "id": "7074f0dd-c991-4eb6-914d-66fcc953bebd",
   "metadata": {},
   "outputs": [
    {
     "data": {
      "text/plain": [
       "['Darkness - lights lit', 'Daylight', 'Darkness - lighting unknown', 'Darkness - lights unlit', 'Darkness - no lighting']\n",
       "Categories (5, object): ['Darkness - lighting unknown', 'Darkness - lights lit', 'Darkness - lights unlit', 'Darkness - no lighting', 'Daylight']"
      ]
     },
     "execution_count": 73,
     "metadata": {},
     "output_type": "execute_result"
    }
   ],
   "source": [
    "ukroadaccident['Light_Conditions'].unique()"
   ]
  },
  {
   "cell_type": "code",
   "execution_count": 77,
   "id": "c696e168-0c2f-474f-b664-4b8adedad374",
   "metadata": {},
   "outputs": [],
   "source": [
    "lighta = ukroadaccident[ukroadaccident['Light_Conditions'] == 'Darkness - lights lit']['Latitude']\n",
    "lightb = ukroadaccident[ukroadaccident['Light_Conditions'] == 'Daylight']['Latitude']\n",
    "lightc = ukroadaccident[ukroadaccident['Light_Conditions'] == 'Darkness - lighting unknown']['Latitude']\n",
    "lightd = ukroadaccident[ukroadaccident['Light_Conditions'] == 'Darkness - lights unlit']['Latitude']\n",
    "lighte = ukroadaccident[ukroadaccident['Light_Conditions'] == 'Darkness - no lighting']['Latitude']"
   ]
  },
  {
   "cell_type": "code",
   "execution_count": 78,
   "id": "9a6978a2-8c49-4444-b136-ed4fc9800c03",
   "metadata": {},
   "outputs": [
    {
     "data": {
      "text/plain": [
       "np.float64(1.224998791423201e-27)"
      ]
     },
     "execution_count": 78,
     "metadata": {},
     "output_type": "execute_result"
    }
   ],
   "source": [
    "result, pvalue = f_oneway(lighta, lightb, lightc, lightd, lighte)\n",
    "pvalue"
   ]
  },
  {
   "cell_type": "markdown",
   "id": "7ce77989-c53d-47e4-be67-3e7231f6b51d",
   "metadata": {},
   "source": [
    "<h2> <strong>Insight: </strong> <i>The result shows that the difference between light conditions and latitude is very significant, mean the light conditions has an extreme effect on the latitude.</i> </h2>"
   ]
  },
  {
   "cell_type": "code",
   "execution_count": null,
   "id": "25636468-be84-4b8c-854b-0a36eadacbb9",
   "metadata": {},
   "outputs": [],
   "source": []
  }
 ],
 "metadata": {
  "kernelspec": {
   "display_name": "Python 3 (ipykernel)",
   "language": "python",
   "name": "python3"
  },
  "language_info": {
   "codemirror_mode": {
    "name": "ipython",
    "version": 3
   },
   "file_extension": ".py",
   "mimetype": "text/x-python",
   "name": "python",
   "nbconvert_exporter": "python",
   "pygments_lexer": "ipython3",
   "version": "3.13.6"
  }
 },
 "nbformat": 4,
 "nbformat_minor": 5
}
