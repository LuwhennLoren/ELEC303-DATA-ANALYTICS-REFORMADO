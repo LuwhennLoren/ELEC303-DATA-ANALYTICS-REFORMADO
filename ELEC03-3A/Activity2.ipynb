{
 "cells": [
  {
   "cell_type": "markdown",
   "id": "6537f459-a586-49e0-a847-aaaad777a474",
   "metadata": {},
   "source": [
    "<h1>---Importing Necessary Files---</h1>"
   ]
  },
  {
   "cell_type": "code",
   "execution_count": 2,
   "id": "69d9cf7a-8bee-4e37-8a19-9bca8a48db4a",
   "metadata": {},
   "outputs": [],
   "source": [
    "import numpy as np\n",
    "import pandas as pd\n",
    "import warnings\n",
    "warnings.filterwarnings('ignore')\n",
    "from scipy.stats import f_oneway"
   ]
  },
  {
   "cell_type": "markdown",
   "id": "2b327509-27fa-483f-a689-392616da707f",
   "metadata": {},
   "source": [
    "<hr>\n",
    "<h1>---Making a DataFrame for the Dataset---</h1>"
   ]
  },
  {
   "cell_type": "code",
   "execution_count": 3,
   "id": "c19b1d9f-efd5-48d6-a784-d7078cc0153e",
   "metadata": {},
   "outputs": [],
   "source": [
    "ukroadaccident = pd.read_csv('datasets\\\\uk_road_accident.csv')"
   ]
  },
  {
   "cell_type": "markdown",
   "id": "5d7d7a1d-ef82-4b43-9168-11ae7f9be71b",
   "metadata": {},
   "source": [
    "<hr>\n",
    "<h1>---Checking if the DataFrame is Working---</h1>"
   ]
  },
  {
   "cell_type": "code",
   "execution_count": 4,
   "id": "03042180-7fce-42e6-b6bd-5909dd4db8fd",
   "metadata": {},
   "outputs": [
    {
     "data": {
      "text/html": [
       "<div>\n",
       "<style scoped>\n",
       "    .dataframe tbody tr th:only-of-type {\n",
       "        vertical-align: middle;\n",
       "    }\n",
       "\n",
       "    .dataframe tbody tr th {\n",
       "        vertical-align: top;\n",
       "    }\n",
       "\n",
       "    .dataframe thead th {\n",
       "        text-align: right;\n",
       "    }\n",
       "</style>\n",
       "<table border=\"1\" class=\"dataframe\">\n",
       "  <thead>\n",
       "    <tr style=\"text-align: right;\">\n",
       "      <th></th>\n",
       "      <th>Index</th>\n",
       "      <th>Accident_Severity</th>\n",
       "      <th>Accident Date</th>\n",
       "      <th>Latitude</th>\n",
       "      <th>Light_Conditions</th>\n",
       "      <th>District Area</th>\n",
       "      <th>Longitude</th>\n",
       "      <th>Number_of_Casualties</th>\n",
       "      <th>Number_of_Vehicles</th>\n",
       "      <th>Road_Surface_Conditions</th>\n",
       "      <th>Road_Type</th>\n",
       "      <th>Urban_or_Rural_Area</th>\n",
       "      <th>Weather_Conditions</th>\n",
       "      <th>Vehicle_Type</th>\n",
       "    </tr>\n",
       "  </thead>\n",
       "  <tbody>\n",
       "    <tr>\n",
       "      <th>0</th>\n",
       "      <td>200701BS64157</td>\n",
       "      <td>Serious</td>\n",
       "      <td>5/6/2019</td>\n",
       "      <td>51.506187</td>\n",
       "      <td>Darkness - lights lit</td>\n",
       "      <td>Kensington and Chelsea</td>\n",
       "      <td>-0.209082</td>\n",
       "      <td>1</td>\n",
       "      <td>2</td>\n",
       "      <td>Dry</td>\n",
       "      <td>Single carriageway</td>\n",
       "      <td>Urban</td>\n",
       "      <td>Fine no high winds</td>\n",
       "      <td>Car</td>\n",
       "    </tr>\n",
       "    <tr>\n",
       "      <th>1</th>\n",
       "      <td>200701BS65737</td>\n",
       "      <td>Serious</td>\n",
       "      <td>2/7/2019</td>\n",
       "      <td>51.495029</td>\n",
       "      <td>Daylight</td>\n",
       "      <td>Kensington and Chelsea</td>\n",
       "      <td>-0.173647</td>\n",
       "      <td>1</td>\n",
       "      <td>2</td>\n",
       "      <td>Wet or damp</td>\n",
       "      <td>Single carriageway</td>\n",
       "      <td>Urban</td>\n",
       "      <td>Raining no high winds</td>\n",
       "      <td>Car</td>\n",
       "    </tr>\n",
       "    <tr>\n",
       "      <th>2</th>\n",
       "      <td>200701BS66127</td>\n",
       "      <td>Serious</td>\n",
       "      <td>26-08-2019</td>\n",
       "      <td>51.517715</td>\n",
       "      <td>Darkness - lighting unknown</td>\n",
       "      <td>Kensington and Chelsea</td>\n",
       "      <td>-0.210215</td>\n",
       "      <td>1</td>\n",
       "      <td>3</td>\n",
       "      <td>Dry</td>\n",
       "      <td>NaN</td>\n",
       "      <td>Urban</td>\n",
       "      <td>NaN</td>\n",
       "      <td>Taxi/Private hire car</td>\n",
       "    </tr>\n",
       "    <tr>\n",
       "      <th>3</th>\n",
       "      <td>200701BS66128</td>\n",
       "      <td>Serious</td>\n",
       "      <td>16-08-2019</td>\n",
       "      <td>51.495478</td>\n",
       "      <td>Daylight</td>\n",
       "      <td>Kensington and Chelsea</td>\n",
       "      <td>-0.202731</td>\n",
       "      <td>1</td>\n",
       "      <td>4</td>\n",
       "      <td>Dry</td>\n",
       "      <td>Single carriageway</td>\n",
       "      <td>Urban</td>\n",
       "      <td>Fine no high winds</td>\n",
       "      <td>Bus or coach (17 or more pass seats)</td>\n",
       "    </tr>\n",
       "    <tr>\n",
       "      <th>4</th>\n",
       "      <td>200701BS66837</td>\n",
       "      <td>Slight</td>\n",
       "      <td>3/9/2019</td>\n",
       "      <td>51.488576</td>\n",
       "      <td>Darkness - lights lit</td>\n",
       "      <td>Kensington and Chelsea</td>\n",
       "      <td>-0.192487</td>\n",
       "      <td>1</td>\n",
       "      <td>2</td>\n",
       "      <td>Dry</td>\n",
       "      <td>NaN</td>\n",
       "      <td>Urban</td>\n",
       "      <td>NaN</td>\n",
       "      <td>Other vehicle</td>\n",
       "    </tr>\n",
       "    <tr>\n",
       "      <th>...</th>\n",
       "      <td>...</td>\n",
       "      <td>...</td>\n",
       "      <td>...</td>\n",
       "      <td>...</td>\n",
       "      <td>...</td>\n",
       "      <td>...</td>\n",
       "      <td>...</td>\n",
       "      <td>...</td>\n",
       "      <td>...</td>\n",
       "      <td>...</td>\n",
       "      <td>...</td>\n",
       "      <td>...</td>\n",
       "      <td>...</td>\n",
       "      <td>...</td>\n",
       "    </tr>\n",
       "    <tr>\n",
       "      <th>660674</th>\n",
       "      <td>201091NM01760</td>\n",
       "      <td>Slight</td>\n",
       "      <td>18-02-2022</td>\n",
       "      <td>57.374005</td>\n",
       "      <td>Daylight</td>\n",
       "      <td>Highland</td>\n",
       "      <td>-3.467828</td>\n",
       "      <td>2</td>\n",
       "      <td>1</td>\n",
       "      <td>Dry</td>\n",
       "      <td>Single carriageway</td>\n",
       "      <td>Rural</td>\n",
       "      <td>Fine no high winds</td>\n",
       "      <td>Car</td>\n",
       "    </tr>\n",
       "    <tr>\n",
       "      <th>660675</th>\n",
       "      <td>201091NM01881</td>\n",
       "      <td>Slight</td>\n",
       "      <td>21-02-2022</td>\n",
       "      <td>57.232273</td>\n",
       "      <td>Darkness - no lighting</td>\n",
       "      <td>Highland</td>\n",
       "      <td>-3.809281</td>\n",
       "      <td>1</td>\n",
       "      <td>1</td>\n",
       "      <td>Frost or ice</td>\n",
       "      <td>Single carriageway</td>\n",
       "      <td>Rural</td>\n",
       "      <td>Fine no high winds</td>\n",
       "      <td>Car</td>\n",
       "    </tr>\n",
       "    <tr>\n",
       "      <th>660676</th>\n",
       "      <td>201091NM01935</td>\n",
       "      <td>Slight</td>\n",
       "      <td>23-02-2022</td>\n",
       "      <td>57.585044</td>\n",
       "      <td>Daylight</td>\n",
       "      <td>Highland</td>\n",
       "      <td>-3.862727</td>\n",
       "      <td>1</td>\n",
       "      <td>3</td>\n",
       "      <td>Frost or ice</td>\n",
       "      <td>Single carriageway</td>\n",
       "      <td>Rural</td>\n",
       "      <td>Fine no high winds</td>\n",
       "      <td>Car</td>\n",
       "    </tr>\n",
       "    <tr>\n",
       "      <th>660677</th>\n",
       "      <td>201091NM01964</td>\n",
       "      <td>Serious</td>\n",
       "      <td>23-02-2022</td>\n",
       "      <td>57.214898</td>\n",
       "      <td>Darkness - no lighting</td>\n",
       "      <td>Highland</td>\n",
       "      <td>-3.823997</td>\n",
       "      <td>1</td>\n",
       "      <td>2</td>\n",
       "      <td>Wet or damp</td>\n",
       "      <td>Single carriageway</td>\n",
       "      <td>Rural</td>\n",
       "      <td>Fine no high winds</td>\n",
       "      <td>Motorcycle over 500cc</td>\n",
       "    </tr>\n",
       "    <tr>\n",
       "      <th>660678</th>\n",
       "      <td>201091NM02142</td>\n",
       "      <td>Serious</td>\n",
       "      <td>28-02-2022</td>\n",
       "      <td>57.575210</td>\n",
       "      <td>Daylight</td>\n",
       "      <td>Highland</td>\n",
       "      <td>-3.895673</td>\n",
       "      <td>1</td>\n",
       "      <td>1</td>\n",
       "      <td>Wet or damp</td>\n",
       "      <td>Dual carriageway</td>\n",
       "      <td>Rural</td>\n",
       "      <td>Snowing no high winds</td>\n",
       "      <td>Car</td>\n",
       "    </tr>\n",
       "  </tbody>\n",
       "</table>\n",
       "<p>660679 rows × 14 columns</p>\n",
       "</div>"
      ],
      "text/plain": [
       "                Index Accident_Severity Accident Date   Latitude  \\\n",
       "0       200701BS64157           Serious      5/6/2019  51.506187   \n",
       "1       200701BS65737           Serious      2/7/2019  51.495029   \n",
       "2       200701BS66127           Serious    26-08-2019  51.517715   \n",
       "3       200701BS66128           Serious    16-08-2019  51.495478   \n",
       "4       200701BS66837            Slight      3/9/2019  51.488576   \n",
       "...               ...               ...           ...        ...   \n",
       "660674  201091NM01760            Slight    18-02-2022  57.374005   \n",
       "660675  201091NM01881            Slight    21-02-2022  57.232273   \n",
       "660676  201091NM01935            Slight    23-02-2022  57.585044   \n",
       "660677  201091NM01964           Serious    23-02-2022  57.214898   \n",
       "660678  201091NM02142           Serious    28-02-2022  57.575210   \n",
       "\n",
       "                   Light_Conditions           District Area  Longitude  \\\n",
       "0             Darkness - lights lit  Kensington and Chelsea  -0.209082   \n",
       "1                          Daylight  Kensington and Chelsea  -0.173647   \n",
       "2       Darkness - lighting unknown  Kensington and Chelsea  -0.210215   \n",
       "3                          Daylight  Kensington and Chelsea  -0.202731   \n",
       "4             Darkness - lights lit  Kensington and Chelsea  -0.192487   \n",
       "...                             ...                     ...        ...   \n",
       "660674                     Daylight                Highland  -3.467828   \n",
       "660675       Darkness - no lighting                Highland  -3.809281   \n",
       "660676                     Daylight                Highland  -3.862727   \n",
       "660677       Darkness - no lighting                Highland  -3.823997   \n",
       "660678                     Daylight                Highland  -3.895673   \n",
       "\n",
       "        Number_of_Casualties  Number_of_Vehicles Road_Surface_Conditions  \\\n",
       "0                          1                   2                     Dry   \n",
       "1                          1                   2             Wet or damp   \n",
       "2                          1                   3                     Dry   \n",
       "3                          1                   4                     Dry   \n",
       "4                          1                   2                     Dry   \n",
       "...                      ...                 ...                     ...   \n",
       "660674                     2                   1                     Dry   \n",
       "660675                     1                   1            Frost or ice   \n",
       "660676                     1                   3            Frost or ice   \n",
       "660677                     1                   2             Wet or damp   \n",
       "660678                     1                   1             Wet or damp   \n",
       "\n",
       "                 Road_Type Urban_or_Rural_Area     Weather_Conditions  \\\n",
       "0       Single carriageway               Urban     Fine no high winds   \n",
       "1       Single carriageway               Urban  Raining no high winds   \n",
       "2                      NaN               Urban                    NaN   \n",
       "3       Single carriageway               Urban     Fine no high winds   \n",
       "4                      NaN               Urban                    NaN   \n",
       "...                    ...                 ...                    ...   \n",
       "660674  Single carriageway               Rural     Fine no high winds   \n",
       "660675  Single carriageway               Rural     Fine no high winds   \n",
       "660676  Single carriageway               Rural     Fine no high winds   \n",
       "660677  Single carriageway               Rural     Fine no high winds   \n",
       "660678    Dual carriageway               Rural  Snowing no high winds   \n",
       "\n",
       "                                Vehicle_Type  \n",
       "0                                        Car  \n",
       "1                                        Car  \n",
       "2                      Taxi/Private hire car  \n",
       "3       Bus or coach (17 or more pass seats)  \n",
       "4                              Other vehicle  \n",
       "...                                      ...  \n",
       "660674                                   Car  \n",
       "660675                                   Car  \n",
       "660676                                   Car  \n",
       "660677                 Motorcycle over 500cc  \n",
       "660678                                   Car  \n",
       "\n",
       "[660679 rows x 14 columns]"
      ]
     },
     "execution_count": 4,
     "metadata": {},
     "output_type": "execute_result"
    }
   ],
   "source": [
    "ukroadaccident"
   ]
  },
  {
   "cell_type": "markdown",
   "id": "b8598230-d36d-4c3e-9a5c-80a2bcbab3dc",
   "metadata": {},
   "source": [
    "<hr>\n",
    "<h1>---Checking for Null Values---</h1>"
   ]
  },
  {
   "cell_type": "code",
   "execution_count": 5,
   "id": "6e179ed3-1942-49ed-8f76-d7d0a39364a6",
   "metadata": {},
   "outputs": [
    {
     "data": {
      "text/plain": [
       "Index                          0\n",
       "Accident_Severity              0\n",
       "Accident Date                  0\n",
       "Latitude                      25\n",
       "Light_Conditions               0\n",
       "District Area                  0\n",
       "Longitude                     26\n",
       "Number_of_Casualties           0\n",
       "Number_of_Vehicles             0\n",
       "Road_Surface_Conditions      726\n",
       "Road_Type                   4520\n",
       "Urban_or_Rural_Area           15\n",
       "Weather_Conditions         14128\n",
       "Vehicle_Type                   0\n",
       "dtype: int64"
      ]
     },
     "execution_count": 5,
     "metadata": {},
     "output_type": "execute_result"
    }
   ],
   "source": [
    "ukroadaccident.isnull().sum()"
   ]
  },
  {
   "cell_type": "markdown",
   "id": "e10b202d-5874-4ba2-86b4-5f1f0c8fb9cb",
   "metadata": {},
   "source": [
    "<hr>\n",
    "<h1>---Fixing the Null Values---</h1>"
   ]
  },
  {
   "cell_type": "markdown",
   "id": "ae6ed67f-0b28-43dd-b569-8ce9248c5020",
   "metadata": {},
   "source": [
    "<h3>-Numerical Null Values-</h3>"
   ]
  },
  {
   "cell_type": "code",
   "execution_count": 6,
   "id": "5c2bc6c9-a954-4aea-b57d-9bf0be3cbc1d",
   "metadata": {},
   "outputs": [
    {
     "data": {
      "text/plain": [
       "np.float64(52.553865761110956)"
      ]
     },
     "execution_count": 6,
     "metadata": {},
     "output_type": "execute_result"
    }
   ],
   "source": [
    "ukroadaccident['Latitude'].mean()"
   ]
  },
  {
   "cell_type": "code",
   "execution_count": 7,
   "id": "4ecc38fb-9aae-4208-aaff-f658c089d215",
   "metadata": {},
   "outputs": [],
   "source": [
    "ukroadaccident['Latitude'] = ukroadaccident['Latitude'].fillna(ukroadaccident['Latitude'].mean())"
   ]
  },
  {
   "cell_type": "markdown",
   "id": "525d342b-bdf3-4b92-9b56-bab10e315f1b",
   "metadata": {},
   "source": [
    "<p>---------------------------------------------</p>"
   ]
  },
  {
   "cell_type": "code",
   "execution_count": 8,
   "id": "8bfe2109-41fe-4402-bde7-24048c772080",
   "metadata": {},
   "outputs": [
    {
     "data": {
      "text/plain": [
       "np.float64(-1.431210368502073)"
      ]
     },
     "execution_count": 8,
     "metadata": {},
     "output_type": "execute_result"
    }
   ],
   "source": [
    "ukroadaccident['Longitude'].mean()"
   ]
  },
  {
   "cell_type": "code",
   "execution_count": 9,
   "id": "50896a52-15d9-4a14-8c5a-79f49c17f039",
   "metadata": {},
   "outputs": [],
   "source": [
    "ukroadaccident['Longitude'] = ukroadaccident['Longitude'].fillna(ukroadaccident['Longitude'].mean())"
   ]
  },
  {
   "cell_type": "markdown",
   "id": "aa786a6a-e24d-4cd8-ba41-cd9ebeb2933b",
   "metadata": {},
   "source": [
    "<h3>-Categorical Null Values-</h3>"
   ]
  },
  {
   "cell_type": "code",
   "execution_count": 10,
   "id": "e8a081c8-9ad6-4ff4-ae63-781351b1cecf",
   "metadata": {},
   "outputs": [
    {
     "data": {
      "text/plain": [
       "0    Dry\n",
       "Name: Road_Surface_Conditions, dtype: object"
      ]
     },
     "execution_count": 10,
     "metadata": {},
     "output_type": "execute_result"
    }
   ],
   "source": [
    "ukroadaccident['Road_Surface_Conditions'].mode()"
   ]
  },
  {
   "cell_type": "code",
   "execution_count": 13,
   "id": "d4d155a9-e87f-40ac-a787-130c0cf1c685",
   "metadata": {},
   "outputs": [],
   "source": [
    "ukroadaccident['Road_Surface_Conditions'] = ukroadaccident['Road_Surface_Conditions'].fillna(ukroadaccident['Road_Surface_Conditions'].mode()[0])"
   ]
  },
  {
   "cell_type": "markdown",
   "id": "d3e74c38-42a9-49c3-9365-32934b007f77",
   "metadata": {},
   "source": [
    "<p>---------------------------------------------</p>"
   ]
  },
  {
   "cell_type": "code",
   "execution_count": 14,
   "id": "b1e30ec3-9db8-45fd-bffa-69df4b54a870",
   "metadata": {},
   "outputs": [
    {
     "data": {
      "text/plain": [
       "0    Single carriageway\n",
       "Name: Road_Type, dtype: object"
      ]
     },
     "execution_count": 14,
     "metadata": {},
     "output_type": "execute_result"
    }
   ],
   "source": [
    "ukroadaccident['Road_Type'].mode()"
   ]
  },
  {
   "cell_type": "code",
   "execution_count": 15,
   "id": "4bb00251-f8de-4d63-979c-dfd0fac66b58",
   "metadata": {},
   "outputs": [],
   "source": [
    "ukroadaccident['Road_Type'] = ukroadaccident['Road_Type'].fillna(ukroadaccident['Road_Type'].mode()[0])"
   ]
  },
  {
   "cell_type": "markdown",
   "id": "142a4a51-a513-407e-835d-2b31c4ae3d6c",
   "metadata": {},
   "source": [
    "<p>---------------------------------------------</p>"
   ]
  },
  {
   "cell_type": "code",
   "execution_count": 23,
   "id": "51159b98-83da-4d4c-9993-36eb54b8f15f",
   "metadata": {},
   "outputs": [
    {
     "data": {
      "text/plain": [
       "0    Urban\n",
       "Name: Urban_or_Rural_Area, dtype: object"
      ]
     },
     "execution_count": 23,
     "metadata": {},
     "output_type": "execute_result"
    }
   ],
   "source": [
    "ukroadaccident['Urban_or_Rural_Area'].mode()"
   ]
  },
  {
   "cell_type": "code",
   "execution_count": 24,
   "id": "e2a122f4-b386-4040-b874-9d331bbf013f",
   "metadata": {},
   "outputs": [],
   "source": [
    "ukroadaccident['Urban_or_Rural_Area'] = ukroadaccident['Urban_or_Rural_Area'].fillna(ukroadaccident['Urban_or_Rural_Area'].mode()[0])"
   ]
  },
  {
   "cell_type": "markdown",
   "id": "f6811a4d-d8ff-49a0-a649-54a731de6222",
   "metadata": {},
   "source": [
    "<p>---------------------------------------------</p>"
   ]
  },
  {
   "cell_type": "code",
   "execution_count": 16,
   "id": "00fb937a-5a68-4e34-9571-737fe8603b15",
   "metadata": {},
   "outputs": [
    {
     "data": {
      "text/plain": [
       "0    Fine no high winds\n",
       "Name: Weather_Conditions, dtype: object"
      ]
     },
     "execution_count": 16,
     "metadata": {},
     "output_type": "execute_result"
    }
   ],
   "source": [
    "ukroadaccident['Weather_Conditions'].mode()"
   ]
  },
  {
   "cell_type": "code",
   "execution_count": 18,
   "id": "9550e822-aaf5-4724-b90d-aced9b1679b2",
   "metadata": {},
   "outputs": [],
   "source": [
    "ukroadaccident['Weather_Conditions'] = ukroadaccident['Weather_Conditions'].fillna(ukroadaccident['Weather_Conditions'].mode()[0])"
   ]
  },
  {
   "cell_type": "markdown",
   "id": "f3fac675-95c7-46ea-bfa5-5ba5d08be489",
   "metadata": {},
   "source": [
    "<h1>---Checking if there are still Null Values---</h1>"
   ]
  },
  {
   "cell_type": "code",
   "execution_count": 25,
   "id": "98d6f815-f321-4fbc-83dc-2b0354a23c56",
   "metadata": {},
   "outputs": [
    {
     "data": {
      "text/plain": [
       "Index                      0\n",
       "Accident_Severity          0\n",
       "Accident Date              0\n",
       "Latitude                   0\n",
       "Light_Conditions           0\n",
       "District Area              0\n",
       "Longitude                  0\n",
       "Number_of_Casualties       0\n",
       "Number_of_Vehicles         0\n",
       "Road_Surface_Conditions    0\n",
       "Road_Type                  0\n",
       "Urban_or_Rural_Area        0\n",
       "Weather_Conditions         0\n",
       "Vehicle_Type               0\n",
       "dtype: int64"
      ]
     },
     "execution_count": 25,
     "metadata": {},
     "output_type": "execute_result"
    }
   ],
   "source": [
    "ukroadaccident.isnull().sum()"
   ]
  },
  {
   "cell_type": "markdown",
   "id": "a93fcec4-0079-420e-ab31-a6bd284f1dba",
   "metadata": {},
   "source": [
    "<hr>\n",
    "<h1>---20 Questions and Insights---</h1>"
   ]
  },
  {
   "cell_type": "code",
   "execution_count": null,
   "id": "fcaa4b64-29e4-4d2b-bdf7-09015b9bf6c4",
   "metadata": {},
   "outputs": [],
   "source": []
  }
 ],
 "metadata": {
  "kernelspec": {
   "display_name": "Python 3 (ipykernel)",
   "language": "python",
   "name": "python3"
  },
  "language_info": {
   "codemirror_mode": {
    "name": "ipython",
    "version": 3
   },
   "file_extension": ".py",
   "mimetype": "text/x-python",
   "name": "python",
   "nbconvert_exporter": "python",
   "pygments_lexer": "ipython3",
   "version": "3.13.6"
  }
 },
 "nbformat": 4,
 "nbformat_minor": 5
}
